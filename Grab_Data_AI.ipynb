{
 "cells": [
  {
   "cell_type": "code",
   "execution_count": 1,
   "metadata": {},
   "outputs": [
    {
     "name": "stderr",
     "output_type": "stream",
     "text": [
      "D:\\anaconda3\\lib\\site-packages\\sklearn\\externals\\joblib\\__init__.py:15: FutureWarning: sklearn.externals.joblib is deprecated in 0.21 and will be removed in 0.23. Please import this functionality directly from joblib, which can be installed with: pip install joblib. If this warning is raised when loading pickled models, you may need to re-serialize those models with scikit-learn 0.21+.\n",
      "  warnings.warn(msg, category=FutureWarning)\n"
     ]
    }
   ],
   "source": [
    "import os\n",
    "\n",
    "import pandas as pd\n",
    "import math\n",
    "import numpy as np \n",
    "import pandas as pd \n",
    "from scipy import stats\n",
    "from sklearn import preprocessing\n",
    "import glob\n",
    "import matplotlib.pyplot as plt\n",
    "import seaborn as sns\n",
    "from sklearn.externals import joblib\n",
    "from tqdm import tqdm_notebook as tqdm\n",
    "\n",
    "from sklearn.model_selection import KFold\n",
    "from sklearn.preprocessing import StandardScaler\n",
    "from sklearn.svm import SVR"
   ]
  },
  {
   "cell_type": "code",
   "execution_count": 2,
   "metadata": {},
   "outputs": [],
   "source": [
    "\n",
    "# Read feature csv files and concate as single dataframe\n",
    "\n",
    "path_f = r'C:\\Users\\limju\\Features' # use your path\n",
    "all_feature_files = glob.glob(path_f + \"/*.csv\")\n",
    "\n",
    "li = []\n",
    "\n",
    "for filename in all_feature_files:\n",
    "    df = pd.read_csv(filename, index_col=None, header=0)\n",
    "    li.append(df)\n",
    "\n",
    "data = pd.concat(li, axis=0, ignore_index=True)"
   ]
  },
  {
   "cell_type": "code",
   "execution_count": null,
   "metadata": {},
   "outputs": [],
   "source": []
  },
  {
   "cell_type": "code",
   "execution_count": 3,
   "metadata": {},
   "outputs": [],
   "source": [
    "#data = pd.read_csv(\"../Features/combined_csv.csv\")\n",
    "# Read label csv file\n",
    "label = pd.read_csv('C:/Users/limju/Labels/part-00000-e9445087-aa0a-433b-a7f6-7f4c19d78ad6-c000 (1).csv', index_col=None, header=0)"
   ]
  },
  {
   "cell_type": "code",
   "execution_count": 4,
   "metadata": {},
   "outputs": [
    {
     "name": "stdout",
     "output_type": "stream",
     "text": [
      "0         111669149733\n",
      "1         335007449205\n",
      "2         171798691856\n",
      "3        1520418422900\n",
      "4         798863917116\n",
      "             ...      \n",
      "20013     429496729754\n",
      "20014     154618822713\n",
      "20015     979252543488\n",
      "20016    1657857376309\n",
      "20017     558345748643\n",
      "Name: bookingID, Length: 20018, dtype: int64\n"
     ]
    }
   ],
   "source": [
    "print(label[\"bookingID\"])"
   ]
  },
  {
   "cell_type": "code",
   "execution_count": 5,
   "metadata": {},
   "outputs": [
    {
     "name": "stdout",
     "output_type": "stream",
     "text": [
      "              bookingID  Accuracy     Bearing  acceleration_x  acceleration_y  \\\n",
      "0         1202590843006     3.000  353.000000        1.228867        8.900100   \n",
      "1          274877907034     9.293   17.000000        0.032775        8.659933   \n",
      "2          884763263056     3.000  189.000000        1.139675        9.545974   \n",
      "3         1073741824054     3.900  126.000000        3.871543       10.386364   \n",
      "4         1056561954943     3.900   50.000000       -0.112882       10.550960   \n",
      "...                 ...       ...         ...             ...             ...   \n",
      "16135556   592705486872     3.000   59.000000        0.189148        9.670476   \n",
      "16135557  1357209665551     7.000  290.154938       -1.576559       -8.460007   \n",
      "16135558  1520418422900     3.900  253.000000       -0.143478       10.014740   \n",
      "16135559  1700807049283     6.000    0.000000       -1.774103        9.313444   \n",
      "16135560  1520418422978     3.000    0.000000        1.533486        9.551667   \n",
      "\n",
      "          acceleration_z    gyro_x    gyro_y    gyro_z  second      Speed  \n",
      "0               3.986968  0.008221  0.002269 -0.009966  1362.0   0.000000  \n",
      "1               4.737300  0.024629  0.004028 -0.010858   257.0   0.190000  \n",
      "2               1.951334 -0.006899 -0.015080  0.001122   973.0   0.667059  \n",
      "3              -0.136474  0.001344 -0.339601 -0.017956   902.0   7.913285  \n",
      "4              -1.560110  0.130568 -0.061697  0.161530   820.0  20.419409  \n",
      "...                  ...       ...       ...       ...     ...        ...  \n",
      "16135556        1.625713  0.004508  0.100046  0.007831   155.0   0.000000  \n",
      "16135557       -4.211835  0.049078  0.023569 -0.073863    83.0  11.094002  \n",
      "16135558        0.629425  0.007156 -0.026550 -0.013199   364.0  21.520000  \n",
      "16135559        2.614468 -0.000611  0.003054  0.000611  1074.0   0.000000  \n",
      "16135560        1.727417 -0.001812  0.005274  0.000916   711.0   0.000000  \n",
      "\n",
      "[16135561 rows x 11 columns]\n"
     ]
    }
   ],
   "source": [
    "print(data)"
   ]
  },
  {
   "cell_type": "code",
   "execution_count": 6,
   "metadata": {},
   "outputs": [
    {
     "name": "stdout",
     "output_type": "stream",
     "text": [
      "19982\n"
     ]
    }
   ],
   "source": [
    "#Dropping labels that contains both 0 and 1\n",
    "label = label.drop_duplicates(subset=['bookingID'], keep=False)\n",
    "print(len(label))"
   ]
  },
  {
   "cell_type": "code",
   "execution_count": 7,
   "metadata": {
    "scrolled": true
   },
   "outputs": [],
   "source": [
    "data = data.sort_values(by=['bookingID', 'second'], ascending=[True, True])\n",
    "label = label.sort_values(by='bookingID', ascending=True)"
   ]
  },
  {
   "cell_type": "code",
   "execution_count": 8,
   "metadata": {},
   "outputs": [],
   "source": [
    "df = pd.merge(left=data, right=label, how='inner', left_on='bookingID', right_on='bookingID')"
   ]
  },
  {
   "cell_type": "code",
   "execution_count": 9,
   "metadata": {},
   "outputs": [
    {
     "data": {
      "text/plain": [
       "19982"
      ]
     },
     "execution_count": 9,
     "metadata": {},
     "output_type": "execute_result"
    }
   ],
   "source": [
    "df.bookingID.nunique()"
   ]
  },
  {
   "cell_type": "code",
   "execution_count": 10,
   "metadata": {},
   "outputs": [],
   "source": [
    "#df.to_csv(\"filtered_data_csv.csv\", index=False, encoding=\"utf-8-sig\")"
   ]
  },
  {
   "cell_type": "code",
   "execution_count": 11,
   "metadata": {},
   "outputs": [
    {
     "data": {
      "text/html": [
       "<div>\n",
       "<style scoped>\n",
       "    .dataframe tbody tr th:only-of-type {\n",
       "        vertical-align: middle;\n",
       "    }\n",
       "\n",
       "    .dataframe tbody tr th {\n",
       "        vertical-align: top;\n",
       "    }\n",
       "\n",
       "    .dataframe thead th {\n",
       "        text-align: right;\n",
       "    }\n",
       "</style>\n",
       "<table border=\"1\" class=\"dataframe\">\n",
       "  <thead>\n",
       "    <tr style=\"text-align: right;\">\n",
       "      <th></th>\n",
       "      <th>bookingID</th>\n",
       "      <th>Accuracy</th>\n",
       "      <th>Bearing</th>\n",
       "      <th>acceleration_x</th>\n",
       "      <th>acceleration_y</th>\n",
       "      <th>acceleration_z</th>\n",
       "      <th>gyro_x</th>\n",
       "      <th>gyro_y</th>\n",
       "      <th>gyro_z</th>\n",
       "      <th>second</th>\n",
       "      <th>Speed</th>\n",
       "      <th>label</th>\n",
       "    </tr>\n",
       "  </thead>\n",
       "  <tbody>\n",
       "    <tr>\n",
       "      <th>0</th>\n",
       "      <td>0</td>\n",
       "      <td>12.0</td>\n",
       "      <td>143.298294</td>\n",
       "      <td>0.818112</td>\n",
       "      <td>-9.941461</td>\n",
       "      <td>-2.014999</td>\n",
       "      <td>-0.016245</td>\n",
       "      <td>-0.094040</td>\n",
       "      <td>0.070732</td>\n",
       "      <td>0.0</td>\n",
       "      <td>3.442991</td>\n",
       "      <td>0</td>\n",
       "    </tr>\n",
       "    <tr>\n",
       "      <th>1</th>\n",
       "      <td>0</td>\n",
       "      <td>8.0</td>\n",
       "      <td>143.298294</td>\n",
       "      <td>0.546405</td>\n",
       "      <td>-9.835590</td>\n",
       "      <td>-2.038925</td>\n",
       "      <td>-0.047092</td>\n",
       "      <td>-0.078874</td>\n",
       "      <td>0.043187</td>\n",
       "      <td>1.0</td>\n",
       "      <td>0.228454</td>\n",
       "      <td>0</td>\n",
       "    </tr>\n",
       "    <tr>\n",
       "      <th>2</th>\n",
       "      <td>0</td>\n",
       "      <td>8.0</td>\n",
       "      <td>143.298294</td>\n",
       "      <td>-1.706207</td>\n",
       "      <td>-9.270792</td>\n",
       "      <td>-1.209448</td>\n",
       "      <td>-0.028965</td>\n",
       "      <td>-0.032652</td>\n",
       "      <td>0.015390</td>\n",
       "      <td>2.0</td>\n",
       "      <td>0.228454</td>\n",
       "      <td>0</td>\n",
       "    </tr>\n",
       "    <tr>\n",
       "      <th>3</th>\n",
       "      <td>0</td>\n",
       "      <td>8.0</td>\n",
       "      <td>143.298294</td>\n",
       "      <td>-1.416705</td>\n",
       "      <td>-9.548032</td>\n",
       "      <td>-1.860977</td>\n",
       "      <td>-0.022413</td>\n",
       "      <td>0.005049</td>\n",
       "      <td>-0.025753</td>\n",
       "      <td>3.0</td>\n",
       "      <td>0.228454</td>\n",
       "      <td>0</td>\n",
       "    </tr>\n",
       "    <tr>\n",
       "      <th>4</th>\n",
       "      <td>0</td>\n",
       "      <td>8.0</td>\n",
       "      <td>143.298294</td>\n",
       "      <td>-0.598145</td>\n",
       "      <td>-9.853534</td>\n",
       "      <td>-1.378574</td>\n",
       "      <td>-0.014297</td>\n",
       "      <td>-0.046206</td>\n",
       "      <td>0.021902</td>\n",
       "      <td>4.0</td>\n",
       "      <td>0.228454</td>\n",
       "      <td>0</td>\n",
       "    </tr>\n",
       "    <tr>\n",
       "      <th>...</th>\n",
       "      <td>...</td>\n",
       "      <td>...</td>\n",
       "      <td>...</td>\n",
       "      <td>...</td>\n",
       "      <td>...</td>\n",
       "      <td>...</td>\n",
       "      <td>...</td>\n",
       "      <td>...</td>\n",
       "      <td>...</td>\n",
       "      <td>...</td>\n",
       "      <td>...</td>\n",
       "      <td>...</td>\n",
       "    </tr>\n",
       "    <tr>\n",
       "      <th>16116699</th>\n",
       "      <td>1709396983975</td>\n",
       "      <td>8.0</td>\n",
       "      <td>199.547104</td>\n",
       "      <td>-0.320905</td>\n",
       "      <td>-8.949738</td>\n",
       "      <td>-3.971979</td>\n",
       "      <td>-0.012879</td>\n",
       "      <td>0.015905</td>\n",
       "      <td>-0.007625</td>\n",
       "      <td>559.0</td>\n",
       "      <td>1.035811</td>\n",
       "      <td>1</td>\n",
       "    </tr>\n",
       "    <tr>\n",
       "      <th>16116700</th>\n",
       "      <td>1709396983975</td>\n",
       "      <td>8.0</td>\n",
       "      <td>199.547104</td>\n",
       "      <td>-0.418253</td>\n",
       "      <td>-8.929102</td>\n",
       "      <td>-3.950296</td>\n",
       "      <td>-0.006455</td>\n",
       "      <td>0.005278</td>\n",
       "      <td>-0.000082</td>\n",
       "      <td>560.0</td>\n",
       "      <td>1.035811</td>\n",
       "      <td>1</td>\n",
       "    </tr>\n",
       "    <tr>\n",
       "      <th>16116701</th>\n",
       "      <td>1709396983975</td>\n",
       "      <td>12.0</td>\n",
       "      <td>199.547104</td>\n",
       "      <td>-0.226697</td>\n",
       "      <td>-8.914597</td>\n",
       "      <td>-4.338940</td>\n",
       "      <td>0.044719</td>\n",
       "      <td>0.032351</td>\n",
       "      <td>-0.018600</td>\n",
       "      <td>561.0</td>\n",
       "      <td>0.302453</td>\n",
       "      <td>1</td>\n",
       "    </tr>\n",
       "    <tr>\n",
       "      <th>16116702</th>\n",
       "      <td>1709396983975</td>\n",
       "      <td>12.0</td>\n",
       "      <td>199.547104</td>\n",
       "      <td>-0.372943</td>\n",
       "      <td>-8.951382</td>\n",
       "      <td>-4.416550</td>\n",
       "      <td>0.053263</td>\n",
       "      <td>0.029213</td>\n",
       "      <td>-0.016357</td>\n",
       "      <td>562.0</td>\n",
       "      <td>0.302453</td>\n",
       "      <td>1</td>\n",
       "    </tr>\n",
       "    <tr>\n",
       "      <th>16116703</th>\n",
       "      <td>1709396983975</td>\n",
       "      <td>12.0</td>\n",
       "      <td>199.547104</td>\n",
       "      <td>-0.024524</td>\n",
       "      <td>-8.984430</td>\n",
       "      <td>-3.973624</td>\n",
       "      <td>-0.021494</td>\n",
       "      <td>0.000867</td>\n",
       "      <td>0.012516</td>\n",
       "      <td>563.0</td>\n",
       "      <td>0.302453</td>\n",
       "      <td>1</td>\n",
       "    </tr>\n",
       "  </tbody>\n",
       "</table>\n",
       "<p>16116704 rows × 12 columns</p>\n",
       "</div>"
      ],
      "text/plain": [
       "              bookingID  Accuracy     Bearing  acceleration_x  acceleration_y  \\\n",
       "0                     0      12.0  143.298294        0.818112       -9.941461   \n",
       "1                     0       8.0  143.298294        0.546405       -9.835590   \n",
       "2                     0       8.0  143.298294       -1.706207       -9.270792   \n",
       "3                     0       8.0  143.298294       -1.416705       -9.548032   \n",
       "4                     0       8.0  143.298294       -0.598145       -9.853534   \n",
       "...                 ...       ...         ...             ...             ...   \n",
       "16116699  1709396983975       8.0  199.547104       -0.320905       -8.949738   \n",
       "16116700  1709396983975       8.0  199.547104       -0.418253       -8.929102   \n",
       "16116701  1709396983975      12.0  199.547104       -0.226697       -8.914597   \n",
       "16116702  1709396983975      12.0  199.547104       -0.372943       -8.951382   \n",
       "16116703  1709396983975      12.0  199.547104       -0.024524       -8.984430   \n",
       "\n",
       "          acceleration_z    gyro_x    gyro_y    gyro_z  second     Speed  \\\n",
       "0              -2.014999 -0.016245 -0.094040  0.070732     0.0  3.442991   \n",
       "1              -2.038925 -0.047092 -0.078874  0.043187     1.0  0.228454   \n",
       "2              -1.209448 -0.028965 -0.032652  0.015390     2.0  0.228454   \n",
       "3              -1.860977 -0.022413  0.005049 -0.025753     3.0  0.228454   \n",
       "4              -1.378574 -0.014297 -0.046206  0.021902     4.0  0.228454   \n",
       "...                  ...       ...       ...       ...     ...       ...   \n",
       "16116699       -3.971979 -0.012879  0.015905 -0.007625   559.0  1.035811   \n",
       "16116700       -3.950296 -0.006455  0.005278 -0.000082   560.0  1.035811   \n",
       "16116701       -4.338940  0.044719  0.032351 -0.018600   561.0  0.302453   \n",
       "16116702       -4.416550  0.053263  0.029213 -0.016357   562.0  0.302453   \n",
       "16116703       -3.973624 -0.021494  0.000867  0.012516   563.0  0.302453   \n",
       "\n",
       "          label  \n",
       "0             0  \n",
       "1             0  \n",
       "2             0  \n",
       "3             0  \n",
       "4             0  \n",
       "...         ...  \n",
       "16116699      1  \n",
       "16116700      1  \n",
       "16116701      1  \n",
       "16116702      1  \n",
       "16116703      1  \n",
       "\n",
       "[16116704 rows x 12 columns]"
      ]
     },
     "execution_count": 11,
     "metadata": {},
     "output_type": "execute_result"
    }
   ],
   "source": [
    "#as the data seconds were not sorted we sort it by booking id first then by seconds\n",
    "df.sort_values(['bookingID', 'second'], ascending=[True, True])"
   ]
  },
  {
   "cell_type": "code",
   "execution_count": null,
   "metadata": {},
   "outputs": [],
   "source": []
  },
  {
   "cell_type": "code",
   "execution_count": 12,
   "metadata": {},
   "outputs": [],
   "source": [
    "#remove any rows with speed value of less than 0 as speed should not be going to negative\n",
    "indexNames = df[ df['Speed'] < 0 ].index\n",
    "df.drop(indexNames , inplace=True)\n",
    "\n",
    "#remove any high accuracy value data as that would mean the data is inaccurate\n",
    "indexNames = df[ df['Accuracy'] > 10 ].index\n",
    "df.drop(indexNames , inplace=True)"
   ]
  },
  {
   "cell_type": "code",
   "execution_count": 13,
   "metadata": {
    "scrolled": true
   },
   "outputs": [
    {
     "data": {
      "text/html": [
       "<div>\n",
       "<style scoped>\n",
       "    .dataframe tbody tr th:only-of-type {\n",
       "        vertical-align: middle;\n",
       "    }\n",
       "\n",
       "    .dataframe tbody tr th {\n",
       "        vertical-align: top;\n",
       "    }\n",
       "\n",
       "    .dataframe thead th {\n",
       "        text-align: right;\n",
       "    }\n",
       "</style>\n",
       "<table border=\"1\" class=\"dataframe\">\n",
       "  <thead>\n",
       "    <tr style=\"text-align: right;\">\n",
       "      <th></th>\n",
       "      <th>bookingID</th>\n",
       "      <th>Accuracy</th>\n",
       "      <th>Bearing</th>\n",
       "      <th>acceleration_x</th>\n",
       "      <th>acceleration_y</th>\n",
       "      <th>acceleration_z</th>\n",
       "      <th>gyro_x</th>\n",
       "      <th>gyro_y</th>\n",
       "      <th>gyro_z</th>\n",
       "      <th>second</th>\n",
       "      <th>Speed</th>\n",
       "      <th>label</th>\n",
       "    </tr>\n",
       "  </thead>\n",
       "  <tbody>\n",
       "    <tr>\n",
       "      <th>count</th>\n",
       "      <td>1.405310e+07</td>\n",
       "      <td>1.405310e+07</td>\n",
       "      <td>1.405310e+07</td>\n",
       "      <td>1.405310e+07</td>\n",
       "      <td>1.405310e+07</td>\n",
       "      <td>1.405310e+07</td>\n",
       "      <td>1.405310e+07</td>\n",
       "      <td>1.405310e+07</td>\n",
       "      <td>1.405310e+07</td>\n",
       "      <td>1.405310e+07</td>\n",
       "      <td>1.405310e+07</td>\n",
       "      <td>1.405310e+07</td>\n",
       "    </tr>\n",
       "    <tr>\n",
       "      <th>mean</th>\n",
       "      <td>8.177361e+11</td>\n",
       "      <td>5.201529e+00</td>\n",
       "      <td>1.692405e+02</td>\n",
       "      <td>7.644929e-02</td>\n",
       "      <td>5.314411e+00</td>\n",
       "      <td>1.069150e+00</td>\n",
       "      <td>-1.480772e-03</td>\n",
       "      <td>2.250958e-04</td>\n",
       "      <td>-3.492137e-04</td>\n",
       "      <td>6.054726e+02</td>\n",
       "      <td>9.239047e+00</td>\n",
       "      <td>3.002504e-01</td>\n",
       "    </tr>\n",
       "    <tr>\n",
       "      <th>std</th>\n",
       "      <td>4.949966e+11</td>\n",
       "      <td>2.222525e+00</td>\n",
       "      <td>1.072663e+02</td>\n",
       "      <td>1.385639e+00</td>\n",
       "      <td>7.658026e+00</td>\n",
       "      <td>3.094344e+00</td>\n",
       "      <td>1.341315e-01</td>\n",
       "      <td>3.482915e-01</td>\n",
       "      <td>1.353323e-01</td>\n",
       "      <td>4.620092e+02</td>\n",
       "      <td>8.131610e+00</td>\n",
       "      <td>4.583668e-01</td>\n",
       "    </tr>\n",
       "    <tr>\n",
       "      <th>min</th>\n",
       "      <td>0.000000e+00</td>\n",
       "      <td>7.500000e-01</td>\n",
       "      <td>0.000000e+00</td>\n",
       "      <td>-7.841969e+01</td>\n",
       "      <td>-7.299412e+01</td>\n",
       "      <td>-7.844842e+01</td>\n",
       "      <td>-4.845575e+01</td>\n",
       "      <td>-7.488861e+01</td>\n",
       "      <td>-5.355445e+01</td>\n",
       "      <td>0.000000e+00</td>\n",
       "      <td>0.000000e+00</td>\n",
       "      <td>0.000000e+00</td>\n",
       "    </tr>\n",
       "    <tr>\n",
       "      <th>25%</th>\n",
       "      <td>3.779571e+11</td>\n",
       "      <td>3.900000e+00</td>\n",
       "      <td>7.800000e+01</td>\n",
       "      <td>-4.980000e-01</td>\n",
       "      <td>6.803399e+00</td>\n",
       "      <td>-7.374367e-01</td>\n",
       "      <td>-2.626232e-02</td>\n",
       "      <td>-2.916947e-02</td>\n",
       "      <td>-1.849365e-02</td>\n",
       "      <td>2.460000e+02</td>\n",
       "      <td>1.166782e+00</td>\n",
       "      <td>0.000000e+00</td>\n",
       "    </tr>\n",
       "    <tr>\n",
       "      <th>50%</th>\n",
       "      <td>8.074539e+11</td>\n",
       "      <td>4.000000e+00</td>\n",
       "      <td>1.690000e+02</td>\n",
       "      <td>6.943397e-02</td>\n",
       "      <td>9.202484e+00</td>\n",
       "      <td>9.050751e-01</td>\n",
       "      <td>-4.850270e-04</td>\n",
       "      <td>2.463421e-04</td>\n",
       "      <td>-6.981317e-05</td>\n",
       "      <td>5.270000e+02</td>\n",
       "      <td>7.956542e+00</td>\n",
       "      <td>0.000000e+00</td>\n",
       "    </tr>\n",
       "    <tr>\n",
       "      <th>75%</th>\n",
       "      <td>1.245541e+12</td>\n",
       "      <td>6.000000e+00</td>\n",
       "      <td>2.630000e+02</td>\n",
       "      <td>6.386566e-01</td>\n",
       "      <td>9.740103e+00</td>\n",
       "      <td>2.839523e+00</td>\n",
       "      <td>2.321288e-02</td>\n",
       "      <td>3.074898e-02</td>\n",
       "      <td>1.776396e-02</td>\n",
       "      <td>8.660000e+02</td>\n",
       "      <td>1.579001e+01</td>\n",
       "      <td>1.000000e+00</td>\n",
       "    </tr>\n",
       "    <tr>\n",
       "      <th>max</th>\n",
       "      <td>1.709397e+12</td>\n",
       "      <td>1.000000e+01</td>\n",
       "      <td>3.599995e+02</td>\n",
       "      <td>4.770832e+01</td>\n",
       "      <td>7.505589e+01</td>\n",
       "      <td>7.805576e+01</td>\n",
       "      <td>3.983975e+01</td>\n",
       "      <td>8.031496e+01</td>\n",
       "      <td>6.630078e+01</td>\n",
       "      <td>8.235000e+03</td>\n",
       "      <td>4.280735e+01</td>\n",
       "      <td>1.000000e+00</td>\n",
       "    </tr>\n",
       "  </tbody>\n",
       "</table>\n",
       "</div>"
      ],
      "text/plain": [
       "          bookingID      Accuracy       Bearing  acceleration_x  \\\n",
       "count  1.405310e+07  1.405310e+07  1.405310e+07    1.405310e+07   \n",
       "mean   8.177361e+11  5.201529e+00  1.692405e+02    7.644929e-02   \n",
       "std    4.949966e+11  2.222525e+00  1.072663e+02    1.385639e+00   \n",
       "min    0.000000e+00  7.500000e-01  0.000000e+00   -7.841969e+01   \n",
       "25%    3.779571e+11  3.900000e+00  7.800000e+01   -4.980000e-01   \n",
       "50%    8.074539e+11  4.000000e+00  1.690000e+02    6.943397e-02   \n",
       "75%    1.245541e+12  6.000000e+00  2.630000e+02    6.386566e-01   \n",
       "max    1.709397e+12  1.000000e+01  3.599995e+02    4.770832e+01   \n",
       "\n",
       "       acceleration_y  acceleration_z        gyro_x        gyro_y  \\\n",
       "count    1.405310e+07    1.405310e+07  1.405310e+07  1.405310e+07   \n",
       "mean     5.314411e+00    1.069150e+00 -1.480772e-03  2.250958e-04   \n",
       "std      7.658026e+00    3.094344e+00  1.341315e-01  3.482915e-01   \n",
       "min     -7.299412e+01   -7.844842e+01 -4.845575e+01 -7.488861e+01   \n",
       "25%      6.803399e+00   -7.374367e-01 -2.626232e-02 -2.916947e-02   \n",
       "50%      9.202484e+00    9.050751e-01 -4.850270e-04  2.463421e-04   \n",
       "75%      9.740103e+00    2.839523e+00  2.321288e-02  3.074898e-02   \n",
       "max      7.505589e+01    7.805576e+01  3.983975e+01  8.031496e+01   \n",
       "\n",
       "             gyro_z        second         Speed         label  \n",
       "count  1.405310e+07  1.405310e+07  1.405310e+07  1.405310e+07  \n",
       "mean  -3.492137e-04  6.054726e+02  9.239047e+00  3.002504e-01  \n",
       "std    1.353323e-01  4.620092e+02  8.131610e+00  4.583668e-01  \n",
       "min   -5.355445e+01  0.000000e+00  0.000000e+00  0.000000e+00  \n",
       "25%   -1.849365e-02  2.460000e+02  1.166782e+00  0.000000e+00  \n",
       "50%   -6.981317e-05  5.270000e+02  7.956542e+00  0.000000e+00  \n",
       "75%    1.776396e-02  8.660000e+02  1.579001e+01  1.000000e+00  \n",
       "max    6.630078e+01  8.235000e+03  4.280735e+01  1.000000e+00  "
      ]
     },
     "execution_count": 13,
     "metadata": {},
     "output_type": "execute_result"
    }
   ],
   "source": [
    "df.describe()"
   ]
  },
  {
   "cell_type": "raw",
   "metadata": {},
   "source": [
    "- bookingID: trip \n",
    "- accuracy: accuracy inferred by GPS in meters\n",
    "- bearing: GPS bearing in degree\n",
    "- acceleration_x: accelerometer reading at x axis (m/s2)\n",
    "- acceleration_y: accelerometer reading at y axis (m/s2)\n",
    "- acceleration_z: accelerometer reading at z axis (m/s2)\n",
    "  (Acceleration determines the acceleration / vibration of the device in motion. Each of the axis can be thought of as a different sensor even though they reside on the same physical chip)\n",
    "- gyro_x: gyroscope reading in x axis (rad/s)\n",
    "- gyro_y: gyroscope reading in y axis (rad/s)\n",
    "- gyro_z: gyroscope reading in z axis (rad/s)\n",
    "  (Gyroscope data determine the orientation of the device relative to earth's gravity)\n",
    "- second: time of the record by number of seconds\n",
    "- speed: speed measured by GPS in m/s\n",
    "- label: tags to indicate dangerous driving trip (0: Normal trip / 1: Dangerous trip)\n",
    "\n",
    "\n",
    "I only needed the Max Seconds, average Speed\n",
    "80KM/H = 22M/S\n",
    "90KM/h = 25M/S"
   ]
  },
  {
   "cell_type": "code",
   "execution_count": null,
   "metadata": {},
   "outputs": [],
   "source": []
  },
  {
   "cell_type": "code",
   "execution_count": 14,
   "metadata": {},
   "outputs": [],
   "source": [
    "df['Bearing'] = (df['Bearing'] - df['Bearing'].shift())\n",
    "df['Bearing'] = df['Bearing'].fillna(value=0)\n",
    "\n",
    "conv_bearings = [1 if values > 45 else 2 if values < -45 else 0 for values in df.Bearing]\n",
    "df['Bearing'] = conv_bearings\n",
    "\n",
    "left_turn = [1 if values == 2 else 0 for values in df.Bearing]\n",
    "df['left_turn'] = left_turn\n",
    "\n",
    "right_turn = [1 if values == 1 else 0 for values in df.Bearing]\n",
    "df['right_turn'] = right_turn"
   ]
  },
  {
   "cell_type": "raw",
   "metadata": {},
   "source": [
    "#Speed feature \n",
    "df['speed_x']=df['acceleration_x']*df['second']\n",
    "df['speed_y']=df['acceleration_y']*df['second']\n",
    "df['speed_z']=df['acceleration_z']*data['second']\n",
    "df['speed_xy']=np.sqrt(df['speed_x']**2+df['speed_y']**2)\n",
    "df['speed_xz']=np.sqrt(df['speed_x']**2+df['speed_z']**2)\n",
    "df['speed_yz']=np.sqrt(df['speed_z']**2+df['speed_y']**2)"
   ]
  },
  {
   "cell_type": "code",
   "execution_count": 15,
   "metadata": {},
   "outputs": [],
   "source": [
    "#interaction between gyro and acceleration creating the vector theorem\n",
    "#https://mathinsight.org/fundamental_theorems_vector_calculus_summary#:~:text=The%20four%20fundamental%20theorems%20of,the%20fundamental%20theorem%20of%20calculus.&text=Similarly%2C%20the%20fundamental%20theorems%20of,the%20boundary%20of%20that%20object.\n",
    "df['acc_gyro_x']=df['acceleration_x']*df['gyro_x']\n",
    "df['acc_gyro_y']=df['acceleration_y']*df['gyro_y']\n",
    "df['acc_gyro_z']=df['acceleration_z']*df['gyro_z']\n",
    "df['acc_gyro_xy']=np.sqrt(df['acc_gyro_x']**2+df['acc_gyro_y']**2)\n",
    "df['acc_gyro_xz']=np.sqrt(df['acc_gyro_x']**2+df['acc_gyro_z']**2)\n",
    "df['acc_gyro_yz']=np.sqrt(df['acc_gyro_z']**2+df['acc_gyro_y']**2)\n",
    "df['acc_gyro_xyz']=np.sqrt(df['acc_gyro_x']**2+df['acc_gyro_y']**2+df['acc_gyro_z']**2)"
   ]
  },
  {
   "cell_type": "code",
   "execution_count": 16,
   "metadata": {},
   "outputs": [],
   "source": [
    "#this is for aggresive turning having a high value of accel xy\n",
    "df['acceleration_xy'] = df['acceleration_x']*df['acceleration_y']\n",
    "#https://physics.stackexchange.com/questions/41653/how-do-i-get-the-total-acceleration-from-3-axes\n",
    "#this site explains the understanding of why i did SQRT(x**2 + y**2 + z**2) in theory it gives \n",
    "#the net acceleration from all 3 points\n",
    "#essentially calculating the momentum of vehicle\n",
    "df['net_acceleration'] = np.sqrt((df['acceleration_x'] ** 2) + (df['acceleration_y'] ** 2) + (df['acceleration_z'] ** 2))"
   ]
  },
  {
   "cell_type": "code",
   "execution_count": 17,
   "metadata": {},
   "outputs": [],
   "source": [
    "#Dimensionality reduction as phone orientation may be in different mode\n",
    "#landscape/horizontal/flat\n",
    "# Principal Components Analysis of Gyroscope Data\n",
    "from sklearn.decomposition import PCA\n",
    "\n",
    "pca_gyro = PCA(n_components=1).fit(df.loc[:, ['gyro_x', 'gyro_y', 'gyro_z']])\n",
    "pca_gyro.explained_variance_ratio_\n",
    "\n",
    "# transform triaxial gyro readings into its first principal components\n",
    "# need change gyro readings into \n",
    "df['gyro'] = pca_gyro.transform(df.loc[:, ('gyro_x', 'gyro_y', 'gyro_z')])\n",
    "df.drop(['gyro_x', 'gyro_y','gyro_z'], axis=1, inplace=True)"
   ]
  },
  {
   "cell_type": "code",
   "execution_count": 18,
   "metadata": {},
   "outputs": [
    {
     "name": "stdout",
     "output_type": "stream",
     "text": [
      "[[0.01803475 0.99745455 0.0689867 ]]\n"
     ]
    }
   ],
   "source": [
    "print(pca_gyro.components_)"
   ]
  },
  {
   "cell_type": "code",
   "execution_count": 19,
   "metadata": {},
   "outputs": [
    {
     "data": {
      "text/html": [
       "<div>\n",
       "<style scoped>\n",
       "    .dataframe tbody tr th:only-of-type {\n",
       "        vertical-align: middle;\n",
       "    }\n",
       "\n",
       "    .dataframe tbody tr th {\n",
       "        vertical-align: top;\n",
       "    }\n",
       "\n",
       "    .dataframe thead th {\n",
       "        text-align: right;\n",
       "    }\n",
       "</style>\n",
       "<table border=\"1\" class=\"dataframe\">\n",
       "  <thead>\n",
       "    <tr style=\"text-align: right;\">\n",
       "      <th></th>\n",
       "      <th>bookingID</th>\n",
       "      <th>left_turn_sum</th>\n",
       "      <th>right_turn_sum</th>\n",
       "      <th>gyro_min</th>\n",
       "      <th>gyro_max</th>\n",
       "      <th>gyro_mean</th>\n",
       "      <th>Speed_max</th>\n",
       "      <th>Speed_mean</th>\n",
       "      <th>Speed_sum</th>\n",
       "      <th>second_max</th>\n",
       "      <th>...</th>\n",
       "      <th>acc_gyro_xy_mean</th>\n",
       "      <th>acc_gyro_xz_mean</th>\n",
       "      <th>acc_gyro_yz_mean</th>\n",
       "      <th>acc_gyro_xyz_mean</th>\n",
       "      <th>acceleration_xy_min</th>\n",
       "      <th>acceleration_xy_max</th>\n",
       "      <th>acceleration_xy_mean</th>\n",
       "      <th>net_acceleration_min</th>\n",
       "      <th>net_acceleration_max</th>\n",
       "      <th>net_acceleration_mean</th>\n",
       "    </tr>\n",
       "  </thead>\n",
       "  <tbody>\n",
       "    <tr>\n",
       "      <th>0</th>\n",
       "      <td>0</td>\n",
       "      <td>4</td>\n",
       "      <td>5</td>\n",
       "      <td>-0.616873</td>\n",
       "      <td>0.417842</td>\n",
       "      <td>-0.005533</td>\n",
       "      <td>22.946083</td>\n",
       "      <td>11.429956</td>\n",
       "      <td>7612.350600</td>\n",
       "      <td>1589.0</td>\n",
       "      <td>...</td>\n",
       "      <td>0.633799</td>\n",
       "      <td>0.111464</td>\n",
       "      <td>0.648086</td>\n",
       "      <td>0.653731</td>\n",
       "      <td>-50.429753</td>\n",
       "      <td>44.473046</td>\n",
       "      <td>6.709258</td>\n",
       "      <td>6.457339</td>\n",
       "      <td>12.988328</td>\n",
       "      <td>9.893719</td>\n",
       "    </tr>\n",
       "    <tr>\n",
       "      <th>1</th>\n",
       "      <td>1</td>\n",
       "      <td>1</td>\n",
       "      <td>1</td>\n",
       "      <td>-0.660219</td>\n",
       "      <td>0.465602</td>\n",
       "      <td>-0.006778</td>\n",
       "      <td>21.882141</td>\n",
       "      <td>8.019369</td>\n",
       "      <td>6720.231233</td>\n",
       "      <td>1034.0</td>\n",
       "      <td>...</td>\n",
       "      <td>0.493978</td>\n",
       "      <td>0.056372</td>\n",
       "      <td>0.499971</td>\n",
       "      <td>0.500764</td>\n",
       "      <td>-50.123440</td>\n",
       "      <td>32.580673</td>\n",
       "      <td>-5.078168</td>\n",
       "      <td>6.970526</td>\n",
       "      <td>12.790147</td>\n",
       "      <td>9.865608</td>\n",
       "    </tr>\n",
       "    <tr>\n",
       "      <th>2</th>\n",
       "      <td>2</td>\n",
       "      <td>3</td>\n",
       "      <td>5</td>\n",
       "      <td>-0.462288</td>\n",
       "      <td>0.433975</td>\n",
       "      <td>-0.012706</td>\n",
       "      <td>9.360483</td>\n",
       "      <td>3.157213</td>\n",
       "      <td>615.656528</td>\n",
       "      <td>825.0</td>\n",
       "      <td>...</td>\n",
       "      <td>0.718235</td>\n",
       "      <td>0.038764</td>\n",
       "      <td>0.716790</td>\n",
       "      <td>0.721304</td>\n",
       "      <td>-33.144576</td>\n",
       "      <td>18.574741</td>\n",
       "      <td>2.960596</td>\n",
       "      <td>8.234988</td>\n",
       "      <td>13.403410</td>\n",
       "      <td>9.929590</td>\n",
       "    </tr>\n",
       "    <tr>\n",
       "      <th>3</th>\n",
       "      <td>4</td>\n",
       "      <td>3</td>\n",
       "      <td>3</td>\n",
       "      <td>-0.511868</td>\n",
       "      <td>0.654244</td>\n",
       "      <td>0.022561</td>\n",
       "      <td>19.780001</td>\n",
       "      <td>6.150996</td>\n",
       "      <td>6729.190006</td>\n",
       "      <td>1094.0</td>\n",
       "      <td>...</td>\n",
       "      <td>0.743528</td>\n",
       "      <td>0.125491</td>\n",
       "      <td>0.767880</td>\n",
       "      <td>0.769108</td>\n",
       "      <td>-22.237658</td>\n",
       "      <td>25.296284</td>\n",
       "      <td>3.378803</td>\n",
       "      <td>7.703982</td>\n",
       "      <td>21.053265</td>\n",
       "      <td>9.813434</td>\n",
       "    </tr>\n",
       "    <tr>\n",
       "      <th>4</th>\n",
       "      <td>6</td>\n",
       "      <td>5</td>\n",
       "      <td>8</td>\n",
       "      <td>-0.622211</td>\n",
       "      <td>0.538916</td>\n",
       "      <td>0.000346</td>\n",
       "      <td>16.394695</td>\n",
       "      <td>4.626175</td>\n",
       "      <td>5033.278186</td>\n",
       "      <td>1094.0</td>\n",
       "      <td>...</td>\n",
       "      <td>0.549958</td>\n",
       "      <td>0.100014</td>\n",
       "      <td>0.560699</td>\n",
       "      <td>0.565965</td>\n",
       "      <td>-46.244616</td>\n",
       "      <td>46.963084</td>\n",
       "      <td>4.598531</td>\n",
       "      <td>7.218154</td>\n",
       "      <td>14.498268</td>\n",
       "      <td>9.916871</td>\n",
       "    </tr>\n",
       "  </tbody>\n",
       "</table>\n",
       "<p>5 rows × 23 columns</p>\n",
       "</div>"
      ],
      "text/plain": [
       "   bookingID  left_turn_sum  right_turn_sum  gyro_min  gyro_max  gyro_mean  \\\n",
       "0          0              4               5 -0.616873  0.417842  -0.005533   \n",
       "1          1              1               1 -0.660219  0.465602  -0.006778   \n",
       "2          2              3               5 -0.462288  0.433975  -0.012706   \n",
       "3          4              3               3 -0.511868  0.654244   0.022561   \n",
       "4          6              5               8 -0.622211  0.538916   0.000346   \n",
       "\n",
       "   Speed_max  Speed_mean    Speed_sum  second_max  ...  acc_gyro_xy_mean  \\\n",
       "0  22.946083   11.429956  7612.350600      1589.0  ...          0.633799   \n",
       "1  21.882141    8.019369  6720.231233      1034.0  ...          0.493978   \n",
       "2   9.360483    3.157213   615.656528       825.0  ...          0.718235   \n",
       "3  19.780001    6.150996  6729.190006      1094.0  ...          0.743528   \n",
       "4  16.394695    4.626175  5033.278186      1094.0  ...          0.549958   \n",
       "\n",
       "   acc_gyro_xz_mean  acc_gyro_yz_mean  acc_gyro_xyz_mean  acceleration_xy_min  \\\n",
       "0          0.111464          0.648086           0.653731           -50.429753   \n",
       "1          0.056372          0.499971           0.500764           -50.123440   \n",
       "2          0.038764          0.716790           0.721304           -33.144576   \n",
       "3          0.125491          0.767880           0.769108           -22.237658   \n",
       "4          0.100014          0.560699           0.565965           -46.244616   \n",
       "\n",
       "   acceleration_xy_max  acceleration_xy_mean  net_acceleration_min  \\\n",
       "0            44.473046              6.709258              6.457339   \n",
       "1            32.580673             -5.078168              6.970526   \n",
       "2            18.574741              2.960596              8.234988   \n",
       "3            25.296284              3.378803              7.703982   \n",
       "4            46.963084              4.598531              7.218154   \n",
       "\n",
       "   net_acceleration_max  net_acceleration_mean  \n",
       "0             12.988328               9.893719  \n",
       "1             12.790147               9.865608  \n",
       "2             13.403410               9.929590  \n",
       "3             21.053265               9.813434  \n",
       "4             14.498268               9.916871  \n",
       "\n",
       "[5 rows x 23 columns]"
      ]
     },
     "execution_count": 19,
     "metadata": {},
     "output_type": "execute_result"
    }
   ],
   "source": [
    "multi = ['min','max', 'mean']\n",
    "speedagg = ['max', 'mean', 'sum']\n",
    "features_data = df.groupby('bookingID', as_index=False).agg({'left_turn' : 'sum' , 'right_turn' : 'sum','gyro': multi,'Speed' : speedagg, 'second':'max', 'acc_gyro_x': 'mean', 'acc_gyro_y': 'mean', 'acc_gyro_z': 'mean', 'acc_gyro_xy': 'mean', 'acc_gyro_xz': 'mean', 'acc_gyro_yz': 'mean' ,'acc_gyro_xyz': 'mean', 'acceleration_xy': multi,'net_acceleration': multi})\n",
    "features_data.columns = features_data.columns.map('_'.join).str.strip('_')\n",
    "\n",
    "features_data.head()"
   ]
  },
  {
   "cell_type": "raw",
   "metadata": {},
   "source": [
    "#new column to see if driver was speeding above the legal limit of 90 on expressways\n",
    "#if speed is more than 25 metres per seconds, equalvalent to 90km/h above SG speed limits in expressway change to 1 else 0\n",
    "#initially i thought this was good, however comparing the speeding values to the labels, multiple columns without speeding were found dangerous and vice versa therefore, i choose to remove this portion\n",
    "conv_speed = [1 if values > 25 else 0 for values in features_data.Speed_max]\n",
    "features_data['speeding'] = conv_speed\n",
    "\n",
    "features_data.tail()"
   ]
  },
  {
   "cell_type": "code",
   "execution_count": 20,
   "metadata": {},
   "outputs": [],
   "source": [
    "\n",
    "features_data = features_data.rename(columns={'Speed_sum': 'Distance', 'left_turn_sum': 'left_turns', 'right_turn_sum': 'right_turns'})\n"
   ]
  },
  {
   "cell_type": "code",
   "execution_count": 21,
   "metadata": {},
   "outputs": [],
   "source": [
    "features_data = pd.merge(features_data, label, on='bookingID', left_index=True, right_index=False, sort=False)"
   ]
  },
  {
   "cell_type": "code",
   "execution_count": 22,
   "metadata": {},
   "outputs": [
    {
     "name": "stdout",
     "output_type": "stream",
     "text": [
      "Percentage of class 1 label: 24.91%\n"
     ]
    }
   ],
   "source": [
    "num_class_one = features_data.label.value_counts()[1] \n",
    "total_label_count = len(features_data.label)\n",
    "\n",
    "# percentage of class 1 \n",
    "print(\"Percentage of class 1 label: {:.2f}%\".format((num_class_one / total_label_count) * 100))"
   ]
  },
  {
   "cell_type": "markdown",
   "metadata": {},
   "source": [
    "Only 24.91% of the training data is labeled as dangerous, thus a standard prediction of all safe would achieve a accuracy of 75%, we have to guage using AUC_score for better guaging against TPR/FPR"
   ]
  },
  {
   "cell_type": "code",
   "execution_count": 23,
   "metadata": {
    "scrolled": false
   },
   "outputs": [
    {
     "data": {
      "text/html": [
       "<div>\n",
       "<style scoped>\n",
       "    .dataframe tbody tr th:only-of-type {\n",
       "        vertical-align: middle;\n",
       "    }\n",
       "\n",
       "    .dataframe tbody tr th {\n",
       "        vertical-align: top;\n",
       "    }\n",
       "\n",
       "    .dataframe thead th {\n",
       "        text-align: right;\n",
       "    }\n",
       "</style>\n",
       "<table border=\"1\" class=\"dataframe\">\n",
       "  <thead>\n",
       "    <tr style=\"text-align: right;\">\n",
       "      <th></th>\n",
       "      <th>bookingID</th>\n",
       "      <th>left_turns</th>\n",
       "      <th>right_turns</th>\n",
       "      <th>gyro_min</th>\n",
       "      <th>gyro_max</th>\n",
       "      <th>gyro_mean</th>\n",
       "      <th>Speed_max</th>\n",
       "      <th>Speed_mean</th>\n",
       "      <th>Distance</th>\n",
       "      <th>second_max</th>\n",
       "      <th>...</th>\n",
       "      <th>acc_gyro_xz_mean</th>\n",
       "      <th>acc_gyro_yz_mean</th>\n",
       "      <th>acc_gyro_xyz_mean</th>\n",
       "      <th>acceleration_xy_min</th>\n",
       "      <th>acceleration_xy_max</th>\n",
       "      <th>acceleration_xy_mean</th>\n",
       "      <th>net_acceleration_min</th>\n",
       "      <th>net_acceleration_max</th>\n",
       "      <th>net_acceleration_mean</th>\n",
       "      <th>label</th>\n",
       "    </tr>\n",
       "  </thead>\n",
       "  <tbody>\n",
       "    <tr>\n",
       "      <th>count</th>\n",
       "      <td>1.982600e+04</td>\n",
       "      <td>19826.000000</td>\n",
       "      <td>19826.000000</td>\n",
       "      <td>19826.000000</td>\n",
       "      <td>19826.000000</td>\n",
       "      <td>19826.000000</td>\n",
       "      <td>19826.000000</td>\n",
       "      <td>19826.000000</td>\n",
       "      <td>19826.000000</td>\n",
       "      <td>19826.000000</td>\n",
       "      <td>...</td>\n",
       "      <td>19826.000000</td>\n",
       "      <td>19826.000000</td>\n",
       "      <td>19826.000000</td>\n",
       "      <td>19826.000000</td>\n",
       "      <td>19826.000000</td>\n",
       "      <td>19826.000000</td>\n",
       "      <td>19826.000000</td>\n",
       "      <td>19826.000000</td>\n",
       "      <td>19826.000000</td>\n",
       "      <td>19826.000000</td>\n",
       "    </tr>\n",
       "    <tr>\n",
       "      <th>mean</th>\n",
       "      <td>8.164420e+11</td>\n",
       "      <td>6.136134</td>\n",
       "      <td>6.314688</td>\n",
       "      <td>-0.987750</td>\n",
       "      <td>0.939425</td>\n",
       "      <td>-0.000084</td>\n",
       "      <td>20.674966</td>\n",
       "      <td>8.574816</td>\n",
       "      <td>6548.835565</td>\n",
       "      <td>907.449763</td>\n",
       "      <td>...</td>\n",
       "      <td>0.187324</td>\n",
       "      <td>0.789455</td>\n",
       "      <td>0.810340</td>\n",
       "      <td>-39.540934</td>\n",
       "      <td>38.006168</td>\n",
       "      <td>0.875630</td>\n",
       "      <td>6.781157</td>\n",
       "      <td>14.095500</td>\n",
       "      <td>9.882695</td>\n",
       "      <td>0.249067</td>\n",
       "    </tr>\n",
       "    <tr>\n",
       "      <th>std</th>\n",
       "      <td>4.944551e+11</td>\n",
       "      <td>7.155381</td>\n",
       "      <td>7.128111</td>\n",
       "      <td>2.330859</td>\n",
       "      <td>2.390236</td>\n",
       "      <td>0.166069</td>\n",
       "      <td>5.360266</td>\n",
       "      <td>4.507628</td>\n",
       "      <td>5675.651763</td>\n",
       "      <td>479.809096</td>\n",
       "      <td>...</td>\n",
       "      <td>0.526920</td>\n",
       "      <td>1.715519</td>\n",
       "      <td>1.735378</td>\n",
       "      <td>45.940977</td>\n",
       "      <td>45.854235</td>\n",
       "      <td>6.997739</td>\n",
       "      <td>1.446234</td>\n",
       "      <td>4.351082</td>\n",
       "      <td>1.003915</td>\n",
       "      <td>0.432484</td>\n",
       "    </tr>\n",
       "    <tr>\n",
       "      <th>min</th>\n",
       "      <td>0.000000e+00</td>\n",
       "      <td>0.000000</td>\n",
       "      <td>0.000000</td>\n",
       "      <td>-75.408637</td>\n",
       "      <td>-1.308094</td>\n",
       "      <td>-18.297043</td>\n",
       "      <td>0.000000</td>\n",
       "      <td>0.000000</td>\n",
       "      <td>0.000000</td>\n",
       "      <td>5.000000</td>\n",
       "      <td>...</td>\n",
       "      <td>0.001122</td>\n",
       "      <td>0.007552</td>\n",
       "      <td>0.014125</td>\n",
       "      <td>-2571.001003</td>\n",
       "      <td>-29.786890</td>\n",
       "      <td>-335.673008</td>\n",
       "      <td>0.005074</td>\n",
       "      <td>1.039078</td>\n",
       "      <td>0.973356</td>\n",
       "      <td>0.000000</td>\n",
       "    </tr>\n",
       "    <tr>\n",
       "      <th>25%</th>\n",
       "      <td>3.865471e+11</td>\n",
       "      <td>2.000000</td>\n",
       "      <td>2.000000</td>\n",
       "      <td>-0.757278</td>\n",
       "      <td>0.409476</td>\n",
       "      <td>-0.006925</td>\n",
       "      <td>17.049999</td>\n",
       "      <td>5.250491</td>\n",
       "      <td>2256.101092</td>\n",
       "      <td>554.000000</td>\n",
       "      <td>...</td>\n",
       "      <td>0.055689</td>\n",
       "      <td>0.431833</td>\n",
       "      <td>0.439586</td>\n",
       "      <td>-44.867589</td>\n",
       "      <td>25.348596</td>\n",
       "      <td>-2.065928</td>\n",
       "      <td>6.138156</td>\n",
       "      <td>12.386395</td>\n",
       "      <td>9.787041</td>\n",
       "      <td>0.000000</td>\n",
       "    </tr>\n",
       "    <tr>\n",
       "      <th>50%</th>\n",
       "      <td>7.988639e+11</td>\n",
       "      <td>4.000000</td>\n",
       "      <td>4.000000</td>\n",
       "      <td>-0.556520</td>\n",
       "      <td>0.508979</td>\n",
       "      <td>-0.000486</td>\n",
       "      <td>20.856855</td>\n",
       "      <td>7.624879</td>\n",
       "      <td>4756.092203</td>\n",
       "      <td>839.000000</td>\n",
       "      <td>...</td>\n",
       "      <td>0.095201</td>\n",
       "      <td>0.599543</td>\n",
       "      <td>0.610847</td>\n",
       "      <td>-33.880498</td>\n",
       "      <td>32.953022</td>\n",
       "      <td>0.791996</td>\n",
       "      <td>6.955078</td>\n",
       "      <td>13.317477</td>\n",
       "      <td>9.863133</td>\n",
       "      <td>0.000000</td>\n",
       "    </tr>\n",
       "    <tr>\n",
       "      <th>75%</th>\n",
       "      <td>1.245541e+12</td>\n",
       "      <td>8.000000</td>\n",
       "      <td>8.000000</td>\n",
       "      <td>-0.431270</td>\n",
       "      <td>0.641137</td>\n",
       "      <td>0.005707</td>\n",
       "      <td>24.747053</td>\n",
       "      <td>11.215226</td>\n",
       "      <td>9362.773793</td>\n",
       "      <td>1213.000000</td>\n",
       "      <td>...</td>\n",
       "      <td>0.160477</td>\n",
       "      <td>0.804929</td>\n",
       "      <td>0.818709</td>\n",
       "      <td>-25.194010</td>\n",
       "      <td>42.408605</td>\n",
       "      <td>3.721229</td>\n",
       "      <td>7.626366</td>\n",
       "      <td>14.593850</td>\n",
       "      <td>9.940800</td>\n",
       "      <td>0.000000</td>\n",
       "    </tr>\n",
       "    <tr>\n",
       "      <th>max</th>\n",
       "      <td>1.709397e+12</td>\n",
       "      <td>254.000000</td>\n",
       "      <td>251.000000</td>\n",
       "      <td>0.158606</td>\n",
       "      <td>80.688387</td>\n",
       "      <td>8.400740</td>\n",
       "      <td>42.807346</td>\n",
       "      <td>29.544777</td>\n",
       "      <td>46029.643582</td>\n",
       "      <td>8235.000000</td>\n",
       "      <td>...</td>\n",
       "      <td>32.378680</td>\n",
       "      <td>149.413157</td>\n",
       "      <td>149.413466</td>\n",
       "      <td>32.460598</td>\n",
       "      <td>3138.486053</td>\n",
       "      <td>290.744215</td>\n",
       "      <td>34.317899</td>\n",
       "      <td>115.152244</td>\n",
       "      <td>39.802653</td>\n",
       "      <td>1.000000</td>\n",
       "    </tr>\n",
       "  </tbody>\n",
       "</table>\n",
       "<p>8 rows × 24 columns</p>\n",
       "</div>"
      ],
      "text/plain": [
       "          bookingID    left_turns   right_turns      gyro_min      gyro_max  \\\n",
       "count  1.982600e+04  19826.000000  19826.000000  19826.000000  19826.000000   \n",
       "mean   8.164420e+11      6.136134      6.314688     -0.987750      0.939425   \n",
       "std    4.944551e+11      7.155381      7.128111      2.330859      2.390236   \n",
       "min    0.000000e+00      0.000000      0.000000    -75.408637     -1.308094   \n",
       "25%    3.865471e+11      2.000000      2.000000     -0.757278      0.409476   \n",
       "50%    7.988639e+11      4.000000      4.000000     -0.556520      0.508979   \n",
       "75%    1.245541e+12      8.000000      8.000000     -0.431270      0.641137   \n",
       "max    1.709397e+12    254.000000    251.000000      0.158606     80.688387   \n",
       "\n",
       "          gyro_mean     Speed_max    Speed_mean      Distance    second_max  \\\n",
       "count  19826.000000  19826.000000  19826.000000  19826.000000  19826.000000   \n",
       "mean      -0.000084     20.674966      8.574816   6548.835565    907.449763   \n",
       "std        0.166069      5.360266      4.507628   5675.651763    479.809096   \n",
       "min      -18.297043      0.000000      0.000000      0.000000      5.000000   \n",
       "25%       -0.006925     17.049999      5.250491   2256.101092    554.000000   \n",
       "50%       -0.000486     20.856855      7.624879   4756.092203    839.000000   \n",
       "75%        0.005707     24.747053     11.215226   9362.773793   1213.000000   \n",
       "max        8.400740     42.807346     29.544777  46029.643582   8235.000000   \n",
       "\n",
       "       ...  acc_gyro_xz_mean  acc_gyro_yz_mean  acc_gyro_xyz_mean  \\\n",
       "count  ...      19826.000000      19826.000000       19826.000000   \n",
       "mean   ...          0.187324          0.789455           0.810340   \n",
       "std    ...          0.526920          1.715519           1.735378   \n",
       "min    ...          0.001122          0.007552           0.014125   \n",
       "25%    ...          0.055689          0.431833           0.439586   \n",
       "50%    ...          0.095201          0.599543           0.610847   \n",
       "75%    ...          0.160477          0.804929           0.818709   \n",
       "max    ...         32.378680        149.413157         149.413466   \n",
       "\n",
       "       acceleration_xy_min  acceleration_xy_max  acceleration_xy_mean  \\\n",
       "count         19826.000000         19826.000000          19826.000000   \n",
       "mean            -39.540934            38.006168              0.875630   \n",
       "std              45.940977            45.854235              6.997739   \n",
       "min           -2571.001003           -29.786890           -335.673008   \n",
       "25%             -44.867589            25.348596             -2.065928   \n",
       "50%             -33.880498            32.953022              0.791996   \n",
       "75%             -25.194010            42.408605              3.721229   \n",
       "max              32.460598          3138.486053            290.744215   \n",
       "\n",
       "       net_acceleration_min  net_acceleration_max  net_acceleration_mean  \\\n",
       "count          19826.000000          19826.000000           19826.000000   \n",
       "mean               6.781157             14.095500               9.882695   \n",
       "std                1.446234              4.351082               1.003915   \n",
       "min                0.005074              1.039078               0.973356   \n",
       "25%                6.138156             12.386395               9.787041   \n",
       "50%                6.955078             13.317477               9.863133   \n",
       "75%                7.626366             14.593850               9.940800   \n",
       "max               34.317899            115.152244              39.802653   \n",
       "\n",
       "              label  \n",
       "count  19826.000000  \n",
       "mean       0.249067  \n",
       "std        0.432484  \n",
       "min        0.000000  \n",
       "25%        0.000000  \n",
       "50%        0.000000  \n",
       "75%        0.000000  \n",
       "max        1.000000  \n",
       "\n",
       "[8 rows x 24 columns]"
      ]
     },
     "execution_count": 23,
     "metadata": {},
     "output_type": "execute_result"
    }
   ],
   "source": [
    "features_data.describe()"
   ]
  },
  {
   "cell_type": "code",
   "execution_count": 24,
   "metadata": {
    "scrolled": true
   },
   "outputs": [],
   "source": [
    "#features_data.where(features_data.left_turns == 280)\n",
    "\n",
    "features_data[(features_data['net_acceleration_max'] > 100)]\n",
    "\n",
    "#drop any rows that turns more than 100 times in a trip, not realistic\n",
    "#viewing the data only 3 bookings\n",
    "\n",
    "#timeframe was short too so every 30 seconds in the trip they turn left and right\n",
    "features_data = features_data.drop(features_data[features_data.left_turns > 100].index)\n",
    "\n",
    "#drop any data that second is more than 5000, is not realistic for the distance travelled\n",
    "features_data = features_data.drop(features_data[features_data.second_max > 5000].index)\n",
    "\n",
    "#drop any data that speed is more than 33, equals to 120km/h sg law on expressway is 90km/h while on normal roads is 70\n",
    "features_data = features_data.drop(features_data[features_data.Speed_max > 33].index)\n",
    "\n",
    "#dropped any data that duration was 0\n",
    "features_data = features_data.drop(features_data[features_data.second_max == 0].index)\n",
    "\n",
    "#drop any data that distance travelled was 0 metres\n",
    "features_data = features_data.drop(features_data[features_data.Distance == 0].index)\n",
    "\n",
    "#drop the row that had 3000 seconds as duration however trip distance was 5 metres\n",
    "features_data = features_data.drop(features_data[(features_data.second_max > 3000) & (features_data.Distance < 10)].index)"
   ]
  },
  {
   "cell_type": "code",
   "execution_count": 25,
   "metadata": {},
   "outputs": [
    {
     "data": {
      "text/html": [
       "<div>\n",
       "<style scoped>\n",
       "    .dataframe tbody tr th:only-of-type {\n",
       "        vertical-align: middle;\n",
       "    }\n",
       "\n",
       "    .dataframe tbody tr th {\n",
       "        vertical-align: top;\n",
       "    }\n",
       "\n",
       "    .dataframe thead th {\n",
       "        text-align: right;\n",
       "    }\n",
       "</style>\n",
       "<table border=\"1\" class=\"dataframe\">\n",
       "  <thead>\n",
       "    <tr style=\"text-align: right;\">\n",
       "      <th></th>\n",
       "      <th>bookingID</th>\n",
       "      <th>left_turns</th>\n",
       "      <th>right_turns</th>\n",
       "      <th>gyro_min</th>\n",
       "      <th>gyro_max</th>\n",
       "      <th>gyro_mean</th>\n",
       "      <th>Speed_max</th>\n",
       "      <th>Speed_mean</th>\n",
       "      <th>Distance</th>\n",
       "      <th>second_max</th>\n",
       "      <th>...</th>\n",
       "      <th>acc_gyro_xz_mean</th>\n",
       "      <th>acc_gyro_yz_mean</th>\n",
       "      <th>acc_gyro_xyz_mean</th>\n",
       "      <th>acceleration_xy_min</th>\n",
       "      <th>acceleration_xy_max</th>\n",
       "      <th>acceleration_xy_mean</th>\n",
       "      <th>net_acceleration_min</th>\n",
       "      <th>net_acceleration_max</th>\n",
       "      <th>net_acceleration_mean</th>\n",
       "      <th>label</th>\n",
       "    </tr>\n",
       "  </thead>\n",
       "  <tbody>\n",
       "  </tbody>\n",
       "</table>\n",
       "<p>0 rows × 24 columns</p>\n",
       "</div>"
      ],
      "text/plain": [
       "Empty DataFrame\n",
       "Columns: [bookingID, left_turns, right_turns, gyro_min, gyro_max, gyro_mean, Speed_max, Speed_mean, Distance, second_max, acc_gyro_x_mean, acc_gyro_y_mean, acc_gyro_z_mean, acc_gyro_xy_mean, acc_gyro_xz_mean, acc_gyro_yz_mean, acc_gyro_xyz_mean, acceleration_xy_min, acceleration_xy_max, acceleration_xy_mean, net_acceleration_min, net_acceleration_max, net_acceleration_mean, label]\n",
       "Index: []\n",
       "\n",
       "[0 rows x 24 columns]"
      ]
     },
     "execution_count": 25,
     "metadata": {},
     "output_type": "execute_result"
    }
   ],
   "source": [
    "features_data[(features_data['left_turns'] > 100)]"
   ]
  },
  {
   "cell_type": "code",
   "execution_count": 26,
   "metadata": {},
   "outputs": [
    {
     "data": {
      "text/html": [
       "<div>\n",
       "<style scoped>\n",
       "    .dataframe tbody tr th:only-of-type {\n",
       "        vertical-align: middle;\n",
       "    }\n",
       "\n",
       "    .dataframe tbody tr th {\n",
       "        vertical-align: top;\n",
       "    }\n",
       "\n",
       "    .dataframe thead th {\n",
       "        text-align: right;\n",
       "    }\n",
       "</style>\n",
       "<table border=\"1\" class=\"dataframe\">\n",
       "  <thead>\n",
       "    <tr style=\"text-align: right;\">\n",
       "      <th></th>\n",
       "      <th>second_max</th>\n",
       "      <th>label</th>\n",
       "    </tr>\n",
       "  </thead>\n",
       "  <tbody>\n",
       "    <tr>\n",
       "      <th>15035</th>\n",
       "      <td>1589.0</td>\n",
       "      <td>0</td>\n",
       "    </tr>\n",
       "    <tr>\n",
       "      <th>13312</th>\n",
       "      <td>1034.0</td>\n",
       "      <td>1</td>\n",
       "    </tr>\n",
       "    <tr>\n",
       "      <th>996</th>\n",
       "      <td>825.0</td>\n",
       "      <td>1</td>\n",
       "    </tr>\n",
       "    <tr>\n",
       "      <th>2328</th>\n",
       "      <td>1094.0</td>\n",
       "      <td>1</td>\n",
       "    </tr>\n",
       "    <tr>\n",
       "      <th>5192</th>\n",
       "      <td>1094.0</td>\n",
       "      <td>0</td>\n",
       "    </tr>\n",
       "    <tr>\n",
       "      <th>19504</th>\n",
       "      <td>959.0</td>\n",
       "      <td>0</td>\n",
       "    </tr>\n",
       "    <tr>\n",
       "      <th>9947</th>\n",
       "      <td>462.0</td>\n",
       "      <td>0</td>\n",
       "    </tr>\n",
       "    <tr>\n",
       "      <th>11921</th>\n",
       "      <td>374.0</td>\n",
       "      <td>0</td>\n",
       "    </tr>\n",
       "    <tr>\n",
       "      <th>19990</th>\n",
       "      <td>1034.0</td>\n",
       "      <td>1</td>\n",
       "    </tr>\n",
       "    <tr>\n",
       "      <th>12161</th>\n",
       "      <td>1664.0</td>\n",
       "      <td>1</td>\n",
       "    </tr>\n",
       "  </tbody>\n",
       "</table>\n",
       "</div>"
      ],
      "text/plain": [
       "       second_max  label\n",
       "15035      1589.0      0\n",
       "13312      1034.0      1\n",
       "996         825.0      1\n",
       "2328       1094.0      1\n",
       "5192       1094.0      0\n",
       "19504       959.0      0\n",
       "9947        462.0      0\n",
       "11921       374.0      0\n",
       "19990      1034.0      1\n",
       "12161      1664.0      1"
      ]
     },
     "execution_count": 26,
     "metadata": {},
     "output_type": "execute_result"
    }
   ],
   "source": [
    "features_data[['second_max', 'label']].groupby(['label'], as_index=False).head()"
   ]
  },
  {
   "cell_type": "code",
   "execution_count": 27,
   "metadata": {
    "scrolled": true
   },
   "outputs": [
    {
     "name": "stdout",
     "output_type": "stream",
     "text": [
      "Wall time: 749 ms\n"
     ]
    },
    {
     "data": {
      "image/png": "[encoded data removed]",
      "text/plain": [
       "<Figure size 1440x2880 with 16 Axes>"
      ]
     },
     "metadata": {
      "needs_background": "light"
     },
     "output_type": "display_data"
    }
   ],
   "source": [
    "%%time\n",
    "fig, axes = plt.subplots(4, 4)\n",
    "fig.set_figheight(40)\n",
    "fig.set_figwidth(20)\n",
    "fig.subplots_adjust(hspace=0.4, wspace=0.4)\n",
    "\n",
    "for i in range(len(data.columns)):\n",
    "    row = i // 4\n",
    "    column = i % 4\n",
    "    sns.violinplot(features_data[features_data.columns[i]], ax=axes[row, column]).set_title(\"{}\".format(features_data.columns[i]))\n"
   ]
  },
  {
   "cell_type": "code",
   "execution_count": 28,
   "metadata": {},
   "outputs": [],
   "source": [
    "from sklearn.model_selection import train_test_split, cross_val_score\n",
    "\n",
    "y = features_data['label']\n",
    "X = features_data.drop(['bookingID', 'label'], axis = 1)\n",
    "\n",
    "x_train, x_test, y_train, y_test = train_test_split(X ,y, test_size = 0.20, random_state = 2)\n"
   ]
  },
  {
   "cell_type": "markdown",
   "metadata": {},
   "source": [
    "# Gradient Boosting Algorithm"
   ]
  },
  {
   "cell_type": "code",
   "execution_count": 29,
   "metadata": {},
   "outputs": [
    {
     "data": {
      "text/plain": [
       "0.798873845375174"
      ]
     },
     "execution_count": 29,
     "metadata": {},
     "output_type": "execute_result"
    }
   ],
   "source": [
    "from sklearn.ensemble import GradientBoostingClassifier, RandomForestClassifier\n",
    "\n",
    "clf = GradientBoostingClassifier(learning_rate = 0.01, n_estimators = 1000, max_depth=4, min_samples_split=2, min_samples_leaf=1, subsample=1,max_features='sqrt', random_state=10)\n",
    "clf.fit(x_train, y_train)\n",
    "clf.score(x_train,y_train)"
   ]
  },
  {
   "cell_type": "code",
   "execution_count": 30,
   "metadata": {},
   "outputs": [
    {
     "data": {
      "text/plain": [
       "0.7856781376518218"
      ]
     },
     "execution_count": 30,
     "metadata": {},
     "output_type": "execute_result"
    }
   ],
   "source": [
    "clf.score(x_test,y_test)"
   ]
  },
  {
   "cell_type": "code",
   "execution_count": 31,
   "metadata": {
    "scrolled": false
   },
   "outputs": [
    {
     "name": "stdout",
     "output_type": "stream",
     "text": [
      "0.5816156268975886\n",
      "              precision    recall  f1-score   support\n",
      "\n",
      "           0       0.79      0.98      0.87      3001\n",
      "           1       0.70      0.19      0.30       951\n",
      "\n",
      "    accuracy                           0.79      3952\n",
      "   macro avg       0.75      0.58      0.59      3952\n",
      "weighted avg       0.77      0.79      0.73      3952\n",
      "\n"
     ]
    }
   ],
   "source": [
    "from sklearn.metrics import roc_auc_score, classification_report\n",
    "prediction = clf.predict(x_test)\n",
    "\n",
    "prediction = prediction.astype(np.int)\n",
    "y_test = y_test.astype(np.int)\n",
    "\n",
    "print(roc_auc_score(y_test, prediction))\n",
    "print(classification_report(y_test, prediction))"
   ]
  },
  {
   "cell_type": "code",
   "execution_count": 32,
   "metadata": {},
   "outputs": [
    {
     "data": {
      "text/html": [
       "<div>\n",
       "<style scoped>\n",
       "    .dataframe tbody tr th:only-of-type {\n",
       "        vertical-align: middle;\n",
       "    }\n",
       "\n",
       "    .dataframe tbody tr th {\n",
       "        vertical-align: top;\n",
       "    }\n",
       "\n",
       "    .dataframe thead th {\n",
       "        text-align: right;\n",
       "    }\n",
       "</style>\n",
       "<table border=\"1\" class=\"dataframe\">\n",
       "  <thead>\n",
       "    <tr style=\"text-align: right;\">\n",
       "      <th></th>\n",
       "      <th>importance</th>\n",
       "    </tr>\n",
       "    <tr>\n",
       "      <th>feature</th>\n",
       "      <th></th>\n",
       "    </tr>\n",
       "  </thead>\n",
       "  <tbody>\n",
       "    <tr>\n",
       "      <th>second_max</th>\n",
       "      <td>0.365</td>\n",
       "    </tr>\n",
       "    <tr>\n",
       "      <th>Speed_mean</th>\n",
       "      <td>0.072</td>\n",
       "    </tr>\n",
       "    <tr>\n",
       "      <th>Speed_max</th>\n",
       "      <td>0.059</td>\n",
       "    </tr>\n",
       "    <tr>\n",
       "      <th>acc_gyro_xz_mean</th>\n",
       "      <td>0.056</td>\n",
       "    </tr>\n",
       "    <tr>\n",
       "      <th>Distance</th>\n",
       "      <td>0.052</td>\n",
       "    </tr>\n",
       "    <tr>\n",
       "      <th>left_turns</th>\n",
       "      <td>0.042</td>\n",
       "    </tr>\n",
       "    <tr>\n",
       "      <th>right_turns</th>\n",
       "      <td>0.039</td>\n",
       "    </tr>\n",
       "    <tr>\n",
       "      <th>net_acceleration_max</th>\n",
       "      <td>0.032</td>\n",
       "    </tr>\n",
       "    <tr>\n",
       "      <th>net_acceleration_min</th>\n",
       "      <td>0.031</td>\n",
       "    </tr>\n",
       "    <tr>\n",
       "      <th>gyro_max</th>\n",
       "      <td>0.030</td>\n",
       "    </tr>\n",
       "    <tr>\n",
       "      <th>gyro_min</th>\n",
       "      <td>0.029</td>\n",
       "    </tr>\n",
       "    <tr>\n",
       "      <th>net_acceleration_mean</th>\n",
       "      <td>0.027</td>\n",
       "    </tr>\n",
       "    <tr>\n",
       "      <th>acc_gyro_xyz_mean</th>\n",
       "      <td>0.026</td>\n",
       "    </tr>\n",
       "    <tr>\n",
       "      <th>acceleration_xy_max</th>\n",
       "      <td>0.026</td>\n",
       "    </tr>\n",
       "    <tr>\n",
       "      <th>acc_gyro_yz_mean</th>\n",
       "      <td>0.020</td>\n",
       "    </tr>\n",
       "    <tr>\n",
       "      <th>acceleration_xy_min</th>\n",
       "      <td>0.016</td>\n",
       "    </tr>\n",
       "    <tr>\n",
       "      <th>acc_gyro_xy_mean</th>\n",
       "      <td>0.015</td>\n",
       "    </tr>\n",
       "    <tr>\n",
       "      <th>acc_gyro_y_mean</th>\n",
       "      <td>0.013</td>\n",
       "    </tr>\n",
       "    <tr>\n",
       "      <th>acc_gyro_x_mean</th>\n",
       "      <td>0.013</td>\n",
       "    </tr>\n",
       "    <tr>\n",
       "      <th>acc_gyro_z_mean</th>\n",
       "      <td>0.013</td>\n",
       "    </tr>\n",
       "    <tr>\n",
       "      <th>acceleration_xy_mean</th>\n",
       "      <td>0.012</td>\n",
       "    </tr>\n",
       "    <tr>\n",
       "      <th>gyro_mean</th>\n",
       "      <td>0.011</td>\n",
       "    </tr>\n",
       "  </tbody>\n",
       "</table>\n",
       "</div>"
      ],
      "text/plain": [
       "                       importance\n",
       "feature                          \n",
       "second_max                  0.365\n",
       "Speed_mean                  0.072\n",
       "Speed_max                   0.059\n",
       "acc_gyro_xz_mean            0.056\n",
       "Distance                    0.052\n",
       "left_turns                  0.042\n",
       "right_turns                 0.039\n",
       "net_acceleration_max        0.032\n",
       "net_acceleration_min        0.031\n",
       "gyro_max                    0.030\n",
       "gyro_min                    0.029\n",
       "net_acceleration_mean       0.027\n",
       "acc_gyro_xyz_mean           0.026\n",
       "acceleration_xy_max         0.026\n",
       "acc_gyro_yz_mean            0.020\n",
       "acceleration_xy_min         0.016\n",
       "acc_gyro_xy_mean            0.015\n",
       "acc_gyro_y_mean             0.013\n",
       "acc_gyro_x_mean             0.013\n",
       "acc_gyro_z_mean             0.013\n",
       "acceleration_xy_mean        0.012\n",
       "gyro_mean                   0.011"
      ]
     },
     "execution_count": 32,
     "metadata": {},
     "output_type": "execute_result"
    }
   ],
   "source": [
    "importances = pd.DataFrame({'feature':x_train.columns,'importance':np.round(clf.feature_importances_,3)})\n",
    "importances = importances.sort_values('importance',ascending=False).set_index('feature')\n",
    "importances.head(25)"
   ]
  },
  {
   "cell_type": "raw",
   "metadata": {},
   "source": [
    "#hyperTuning for searching the Best Parameters to be used on this algorithm It is commented out as \n",
    "\n",
    "from sklearn.model_selection import GridSearchCV, cross_val_score\n",
    "\n",
    "n_estimators = range(1,100,5)\n",
    "max_depth = range(1,100,2)\n",
    "min_samples_split = range(1,100,2)\n",
    "learning_rate = [0.1, 0.15, 0.20]\n",
    "\n",
    "hyperF = dict(n_estimators = n_estimators, max_depth = max_depth,  min_samples_split = min_samples_split, learning_rate = learning_rate)\n",
    " \n",
    "gridF = GridSearchCV(clf, hyperF, cv = 3, verbose = 1, n_jobs = -1)\n",
    "bestF = gridF.fit(x_train, y_train)\n",
    "\n",
    "#hypertune my gradient boost\n",
    "\n",
    "bestF.best_params_\n"
   ]
  },
  {
   "cell_type": "raw",
   "metadata": {},
   "source": [
    "from sklearn.model_selection import GridSearchCV, cross_val_score\n",
    "p_test3 = {\"min_samples_leaf\": [1,2,3,4,5,10] ,\"max_depth\":[1,3,4,5,7,9],'learning_rate':[0.15,0.1,0.05,0.01,0.005,0.001], 'n_estimators':[100,250,500,750,1000,1250,1500,1750]}\n",
    "\n",
    "\n",
    "tuning = GridSearchCV(estimator = GradientBoostingClassifier(min_samples_split=2, subsample=1,max_features='sqrt', random_state=10), \n",
    "            param_grid = p_test3, scoring='accuracy',n_jobs=4,iid=False, cv=5)\n",
    "tuning.fit(x_train,y_train)\n"
   ]
  },
  {
   "cell_type": "raw",
   "metadata": {},
   "source": [
    "tuning.best_params_, tuning.best_score_"
   ]
  },
  {
   "cell_type": "code",
   "execution_count": 33,
   "metadata": {},
   "outputs": [
    {
     "name": "stdout",
     "output_type": "stream",
     "text": [
      "0.5816156268975886\n"
     ]
    }
   ],
   "source": [
    "from sklearn.metrics import roc_curve, auc\n",
    "# Compute micro-average ROC curve and ROC area\n",
    "y_pred = clf.predict(x_test)\n",
    "fpr, tpr, _ = roc_curve(y_test, y_pred)\n",
    "roc_auc = auc(fpr, tpr)\n",
    "print(roc_auc)"
   ]
  },
  {
   "cell_type": "code",
   "execution_count": 34,
   "metadata": {},
   "outputs": [
    {
     "data": {
      "image/png": "[encoded data removed]",
      "text/plain": [
       "<Figure size 432x288 with 1 Axes>"
      ]
     },
     "metadata": {
      "needs_background": "light"
     },
     "output_type": "display_data"
    }
   ],
   "source": [
    "plt.figure()\n",
    "lw = 2\n",
    "plt.plot(fpr, tpr, color='darkorange',\n",
    "         lw=lw, label='ROC curve (area = %0.2f)' % roc_auc)\n",
    "plt.plot([0, 1], [0, 1], color='navy', lw=lw, linestyle='--')\n",
    "plt.xlim([-0.02, 1.0])\n",
    "plt.ylim([0.0, 1.05])\n",
    "plt.xlabel('False Positive Rate')\n",
    "plt.ylabel('True Positive Rate')\n",
    "plt.title('ROC curve')\n",
    "plt.legend(loc=\"lower right\")\n",
    "plt.show()"
   ]
  },
  {
   "cell_type": "markdown",
   "metadata": {},
   "source": [
    "# Gradient Boosting Regressor"
   ]
  },
  {
   "cell_type": "code",
   "execution_count": 35,
   "metadata": {},
   "outputs": [
    {
     "data": {
      "text/plain": [
       "0.7188078912356939"
      ]
     },
     "execution_count": 35,
     "metadata": {},
     "output_type": "execute_result"
    }
   ],
   "source": [
    "from sklearn.ensemble import GradientBoostingRegressor\n",
    "\n",
    "#X, y = make_regression(random_state=0)\n",
    "\n",
    "reg = GradientBoostingRegressor(random_state=0)\n",
    "reg.fit(x_train, y_train)\n",
    "y_pred = reg.predict(x_test)\n",
    "\n",
    "#reg.score(x_test, y_test)\n",
    "roc_auc_score(y_test, y_pred)\n"
   ]
  },
  {
   "cell_type": "code",
   "execution_count": 36,
   "metadata": {},
   "outputs": [
    {
     "name": "stdout",
     "output_type": "stream",
     "text": [
      "0.7188078912356939\n"
     ]
    },
    {
     "data": {
      "image/png": "[encoded data removed]",
      "text/plain": [
       "<Figure size 432x288 with 1 Axes>"
      ]
     },
     "metadata": {
      "needs_background": "light"
     },
     "output_type": "display_data"
    }
   ],
   "source": [
    "y_pred = reg.predict(x_test)\n",
    "fpr, tpr, _ = roc_curve(y_test, y_pred)\n",
    "roc_auc = auc(fpr, tpr)\n",
    "print(roc_auc)\n",
    "\n",
    "plt.figure()\n",
    "lw = 2\n",
    "plt.plot(fpr, tpr, color='darkorange',\n",
    "         lw=lw, label='ROC curve (area = %0.2f)' % roc_auc)\n",
    "plt.plot([0, 1], [0, 1], color='navy', lw=lw, linestyle='--')\n",
    "plt.xlim([-0.02, 1.0])\n",
    "plt.ylim([0.0, 1.05])\n",
    "plt.xlabel('False Positive Rate')\n",
    "plt.ylabel('True Positive Rate')\n",
    "plt.title('ROC curve')\n",
    "plt.legend(loc=\"lower right\")\n",
    "plt.show()"
   ]
  },
  {
   "cell_type": "markdown",
   "metadata": {},
   "source": [
    "# XG Boost (pip install this module)"
   ]
  },
  {
   "cell_type": "code",
   "execution_count": 37,
   "metadata": {},
   "outputs": [
    {
     "data": {
      "text/plain": [
       "0.7798582995951417"
      ]
     },
     "execution_count": 37,
     "metadata": {},
     "output_type": "execute_result"
    }
   ],
   "source": [
    "import xgboost as xgb\n",
    "\n",
    "xg_class = xgb.XGBClassifier(objective ='binary:logistic', colsample_bytree = 0.3, learning_rate = 0.1,\n",
    "                max_depth = 5, alpha = 10, n_estimators = 10)\n",
    "\n",
    "xg_class.fit(x_train,y_train)\n",
    "xg_class.score(x_test,y_test)"
   ]
  },
  {
   "cell_type": "code",
   "execution_count": 38,
   "metadata": {},
   "outputs": [
    {
     "name": "stdout",
     "output_type": "stream",
     "text": [
      "0.5468965654981462\n"
     ]
    },
    {
     "data": {
      "image/png": "[encoded data removed]",
      "text/plain": [
       "<Figure size 432x288 with 1 Axes>"
      ]
     },
     "metadata": {
      "needs_background": "light"
     },
     "output_type": "display_data"
    }
   ],
   "source": [
    "y_pred = xg_class.predict(x_test)\n",
    "fpr, tpr, _ = roc_curve(y_test, y_pred)\n",
    "roc_auc = auc(fpr, tpr)\n",
    "print(roc_auc)\n",
    "\n",
    "plt.figure()\n",
    "lw = 2\n",
    "plt.plot(fpr, tpr, color='darkorange',\n",
    "         lw=lw, label='ROC curve (area = %0.2f)' % roc_auc)\n",
    "plt.plot([0, 1], [0, 1], color='navy', lw=lw, linestyle='--')\n",
    "plt.xlim([-0.02, 1.0])\n",
    "plt.ylim([0.0, 1.05])\n",
    "plt.xlabel('False Positive Rate')\n",
    "plt.ylabel('True Positive Rate')\n",
    "plt.title('ROC curve')\n",
    "plt.legend(loc=\"lower right\")\n",
    "plt.show()"
   ]
  },
  {
   "cell_type": "markdown",
   "metadata": {},
   "source": [
    "# Logistic Regression"
   ]
  },
  {
   "cell_type": "code",
   "execution_count": 39,
   "metadata": {},
   "outputs": [
    {
     "name": "stderr",
     "output_type": "stream",
     "text": [
      "D:\\anaconda3\\lib\\site-packages\\sklearn\\linear_model\\_logistic.py:940: ConvergenceWarning: lbfgs failed to converge (status=1):\n",
      "STOP: TOTAL NO. of ITERATIONS REACHED LIMIT.\n",
      "\n",
      "Increase the number of iterations (max_iter) or scale the data as shown in:\n",
      "    https://scikit-learn.org/stable/modules/preprocessing.html\n",
      "Please also refer to the documentation for alternative solver options:\n",
      "    https://scikit-learn.org/stable/modules/linear_model.html#logistic-regression\n",
      "  extra_warning_msg=_LOGISTIC_SOLVER_CONVERGENCE_MSG)\n"
     ]
    },
    {
     "data": {
      "text/plain": [
       "0.7793522267206477"
      ]
     },
     "execution_count": 39,
     "metadata": {},
     "output_type": "execute_result"
    }
   ],
   "source": [
    "from sklearn.linear_model import LogisticRegression\n",
    "\n",
    "lr = LogisticRegression(random_state=0)\n",
    "lr.fit(x_train, y_train)\n",
    "\n",
    "lr.score(x_test,y_test)\n"
   ]
  },
  {
   "cell_type": "code",
   "execution_count": 40,
   "metadata": {},
   "outputs": [
    {
     "name": "stdout",
     "output_type": "stream",
     "text": [
      "0.5788869535601697\n"
     ]
    },
    {
     "data": {
      "image/png": "[encoded data removed]",
      "text/plain": [
       "<Figure size 432x288 with 1 Axes>"
      ]
     },
     "metadata": {
      "needs_background": "light"
     },
     "output_type": "display_data"
    }
   ],
   "source": [
    "y_pred = lr.predict(x_test)\n",
    "fpr, tpr, _ = roc_curve(y_test, y_pred)\n",
    "roc_auc = auc(fpr, tpr)\n",
    "print(roc_auc)\n",
    "\n",
    "plt.figure()\n",
    "lw = 2\n",
    "plt.plot(fpr, tpr, color='darkorange',\n",
    "         lw=lw, label='ROC curve (area = %0.2f)' % roc_auc)\n",
    "plt.plot([0, 1], [0, 1], color='navy', lw=lw, linestyle='--')\n",
    "plt.xlim([-0.02, 1.0])\n",
    "plt.ylim([0.0, 1.05])\n",
    "plt.xlabel('False Positive Rate')\n",
    "plt.ylabel('True Positive Rate')\n",
    "plt.title('ROC curve')\n",
    "plt.legend(loc=\"lower right\")\n",
    "plt.show()"
   ]
  },
  {
   "cell_type": "markdown",
   "metadata": {},
   "source": [
    "# Random Forest "
   ]
  },
  {
   "cell_type": "code",
   "execution_count": 41,
   "metadata": {},
   "outputs": [
    {
     "data": {
      "text/plain": [
       "0.7851720647773279"
      ]
     },
     "execution_count": 41,
     "metadata": {},
     "output_type": "execute_result"
    }
   ],
   "source": [
    "from sklearn.ensemble import RandomForestClassifier\n",
    "\n",
    "rf = RandomForestClassifier(n_estimators=30, max_depth=9)\n",
    "\n",
    "rf.fit(x_train, y_train)\n",
    "\n",
    "rf.score(x_test,y_test)"
   ]
  },
  {
   "cell_type": "code",
   "execution_count": 42,
   "metadata": {},
   "outputs": [
    {
     "data": {
      "image/png": "[encoded data removed]",
      "text/plain": [
       "<Figure size 432x288 with 1 Axes>"
      ]
     },
     "metadata": {
      "needs_background": "light"
     },
     "output_type": "display_data"
    }
   ],
   "source": [
    "features = x_train.columns\n",
    "importances = rf.feature_importances_\n",
    "indices = np.argsort(importances)[-9:]  # top 10 features\n",
    "plt.title('Feature Importances')\n",
    "plt.barh(range(len(indices)), importances[indices], color='g', align='center')\n",
    "plt.yticks(range(len(indices)), [features[i] for i in indices])\n",
    "plt.xlabel('Relative Importance')\n",
    "plt.show()"
   ]
  },
  {
   "cell_type": "code",
   "execution_count": 43,
   "metadata": {},
   "outputs": [
    {
     "name": "stderr",
     "output_type": "stream",
     "text": [
      "D:\\anaconda3\\lib\\site-packages\\sklearn\\linear_model\\_logistic.py:940: ConvergenceWarning: lbfgs failed to converge (status=1):\n",
      "STOP: TOTAL NO. of ITERATIONS REACHED LIMIT.\n",
      "\n",
      "Increase the number of iterations (max_iter) or scale the data as shown in:\n",
      "    https://scikit-learn.org/stable/modules/preprocessing.html\n",
      "Please also refer to the documentation for alternative solver options:\n",
      "    https://scikit-learn.org/stable/modules/linear_model.html#logistic-regression\n",
      "  extra_warning_msg=_LOGISTIC_SOLVER_CONVERGENCE_MSG)\n",
      "D:\\anaconda3\\lib\\site-packages\\sklearn\\linear_model\\_logistic.py:940: ConvergenceWarning: lbfgs failed to converge (status=1):\n",
      "STOP: TOTAL NO. of ITERATIONS REACHED LIMIT.\n",
      "\n",
      "Increase the number of iterations (max_iter) or scale the data as shown in:\n",
      "    https://scikit-learn.org/stable/modules/preprocessing.html\n",
      "Please also refer to the documentation for alternative solver options:\n",
      "    https://scikit-learn.org/stable/modules/linear_model.html#logistic-regression\n",
      "  extra_warning_msg=_LOGISTIC_SOLVER_CONVERGENCE_MSG)\n",
      "D:\\anaconda3\\lib\\site-packages\\sklearn\\linear_model\\_logistic.py:940: ConvergenceWarning: lbfgs failed to converge (status=1):\n",
      "STOP: TOTAL NO. of ITERATIONS REACHED LIMIT.\n",
      "\n",
      "Increase the number of iterations (max_iter) or scale the data as shown in:\n",
      "    https://scikit-learn.org/stable/modules/preprocessing.html\n",
      "Please also refer to the documentation for alternative solver options:\n",
      "    https://scikit-learn.org/stable/modules/linear_model.html#logistic-regression\n",
      "  extra_warning_msg=_LOGISTIC_SOLVER_CONVERGENCE_MSG)\n",
      "D:\\anaconda3\\lib\\site-packages\\sklearn\\linear_model\\_logistic.py:940: ConvergenceWarning: lbfgs failed to converge (status=1):\n",
      "STOP: TOTAL NO. of ITERATIONS REACHED LIMIT.\n",
      "\n",
      "Increase the number of iterations (max_iter) or scale the data as shown in:\n",
      "    https://scikit-learn.org/stable/modules/preprocessing.html\n",
      "Please also refer to the documentation for alternative solver options:\n",
      "    https://scikit-learn.org/stable/modules/linear_model.html#logistic-regression\n",
      "  extra_warning_msg=_LOGISTIC_SOLVER_CONVERGENCE_MSG)\n",
      "D:\\anaconda3\\lib\\site-packages\\sklearn\\linear_model\\_logistic.py:940: ConvergenceWarning: lbfgs failed to converge (status=1):\n",
      "STOP: TOTAL NO. of ITERATIONS REACHED LIMIT.\n",
      "\n",
      "Increase the number of iterations (max_iter) or scale the data as shown in:\n",
      "    https://scikit-learn.org/stable/modules/preprocessing.html\n",
      "Please also refer to the documentation for alternative solver options:\n",
      "    https://scikit-learn.org/stable/modules/linear_model.html#logistic-regression\n",
      "  extra_warning_msg=_LOGISTIC_SOLVER_CONVERGENCE_MSG)\n"
     ]
    },
    {
     "name": "stdout",
     "output_type": "stream",
     "text": [
      "[0.7828955496167327, 0.7732566679680335, 0.7733578313080172, 0.7798869911476313]\n",
      "Wall time: 25.3 s\n"
     ]
    }
   ],
   "source": [
    "%%time\n",
    "roc_score = []\n",
    "\n",
    "clf_predict = cross_val_score(clf, x_test, y_test, cv=5, scoring='accuracy')\n",
    "roc_score.append(np.mean(clf_predict))\n",
    "\n",
    "xg_predict = cross_val_score(xg_class, X, y, cv=5, scoring='accuracy')\n",
    "roc_score.append(np.mean(xg_predict))\n",
    "\n",
    "lr_predict = cross_val_score(lr, X, y, cv=5, scoring='accuracy')\n",
    "roc_score.append(np.mean(lr_predict))\n",
    "\n",
    "rf_predict = cross_val_score(rf, X, y, cv=5, scoring='accuracy')\n",
    "roc_score.append(np.mean(rf_predict))\n",
    "\n",
    "print(roc_score)\n",
    "\n",
    "#print(\"Gradient Boosting ROC_AUC cv fold: \", cv_predict)\n",
    "#print(\"gradient boosting Mean 5-fold roc_auc: {}\".format(np.mean(cv_predict)))"
   ]
  },
  {
   "cell_type": "markdown",
   "metadata": {},
   "source": [
    "# attempting to stack the model"
   ]
  },
  {
   "cell_type": "code",
   "execution_count": 61,
   "metadata": {},
   "outputs": [
    {
     "name": "stderr",
     "output_type": "stream",
     "text": [
      "D:\\anaconda3\\lib\\site-packages\\sklearn\\linear_model\\_logistic.py:940: ConvergenceWarning: lbfgs failed to converge (status=1):\n",
      "STOP: TOTAL NO. of ITERATIONS REACHED LIMIT.\n",
      "\n",
      "Increase the number of iterations (max_iter) or scale the data as shown in:\n",
      "    https://scikit-learn.org/stable/modules/preprocessing.html\n",
      "Please also refer to the documentation for alternative solver options:\n",
      "    https://scikit-learn.org/stable/modules/linear_model.html#logistic-regression\n",
      "  extra_warning_msg=_LOGISTIC_SOLVER_CONVERGENCE_MSG)\n",
      "D:\\anaconda3\\lib\\site-packages\\sklearn\\linear_model\\_logistic.py:940: ConvergenceWarning: lbfgs failed to converge (status=1):\n",
      "STOP: TOTAL NO. of ITERATIONS REACHED LIMIT.\n",
      "\n",
      "Increase the number of iterations (max_iter) or scale the data as shown in:\n",
      "    https://scikit-learn.org/stable/modules/preprocessing.html\n",
      "Please also refer to the documentation for alternative solver options:\n",
      "    https://scikit-learn.org/stable/modules/linear_model.html#logistic-regression\n",
      "  extra_warning_msg=_LOGISTIC_SOLVER_CONVERGENCE_MSG)\n",
      "D:\\anaconda3\\lib\\site-packages\\sklearn\\linear_model\\_logistic.py:940: ConvergenceWarning: lbfgs failed to converge (status=1):\n",
      "STOP: TOTAL NO. of ITERATIONS REACHED LIMIT.\n",
      "\n",
      "Increase the number of iterations (max_iter) or scale the data as shown in:\n",
      "    https://scikit-learn.org/stable/modules/preprocessing.html\n",
      "Please also refer to the documentation for alternative solver options:\n",
      "    https://scikit-learn.org/stable/modules/linear_model.html#logistic-regression\n",
      "  extra_warning_msg=_LOGISTIC_SOLVER_CONVERGENCE_MSG)\n",
      "D:\\anaconda3\\lib\\site-packages\\sklearn\\linear_model\\_logistic.py:940: ConvergenceWarning: lbfgs failed to converge (status=1):\n",
      "STOP: TOTAL NO. of ITERATIONS REACHED LIMIT.\n",
      "\n",
      "Increase the number of iterations (max_iter) or scale the data as shown in:\n",
      "    https://scikit-learn.org/stable/modules/preprocessing.html\n",
      "Please also refer to the documentation for alternative solver options:\n",
      "    https://scikit-learn.org/stable/modules/linear_model.html#logistic-regression\n",
      "  extra_warning_msg=_LOGISTIC_SOLVER_CONVERGENCE_MSG)\n",
      "D:\\anaconda3\\lib\\site-packages\\sklearn\\linear_model\\_logistic.py:940: ConvergenceWarning: lbfgs failed to converge (status=1):\n",
      "STOP: TOTAL NO. of ITERATIONS REACHED LIMIT.\n",
      "\n",
      "Increase the number of iterations (max_iter) or scale the data as shown in:\n",
      "    https://scikit-learn.org/stable/modules/preprocessing.html\n",
      "Please also refer to the documentation for alternative solver options:\n",
      "    https://scikit-learn.org/stable/modules/linear_model.html#logistic-regression\n",
      "  extra_warning_msg=_LOGISTIC_SOLVER_CONVERGENCE_MSG)\n",
      "D:\\anaconda3\\lib\\site-packages\\sklearn\\linear_model\\_logistic.py:940: ConvergenceWarning: lbfgs failed to converge (status=1):\n",
      "STOP: TOTAL NO. of ITERATIONS REACHED LIMIT.\n",
      "\n",
      "Increase the number of iterations (max_iter) or scale the data as shown in:\n",
      "    https://scikit-learn.org/stable/modules/preprocessing.html\n",
      "Please also refer to the documentation for alternative solver options:\n",
      "    https://scikit-learn.org/stable/modules/linear_model.html#logistic-regression\n",
      "  extra_warning_msg=_LOGISTIC_SOLVER_CONVERGENCE_MSG)\n"
     ]
    },
    {
     "name": "stdout",
     "output_type": "stream",
     "text": [
      "Wall time: 1min 47s\n"
     ]
    },
    {
     "data": {
      "text/plain": [
       "StackingClassifier(cv=5,\n",
       "                   estimators=[('lr',\n",
       "                                LogisticRegression(C=1.0, class_weight=None,\n",
       "                                                   dual=False,\n",
       "                                                   fit_intercept=True,\n",
       "                                                   intercept_scaling=1,\n",
       "                                                   l1_ratio=None, max_iter=100,\n",
       "                                                   multi_class='auto',\n",
       "                                                   n_jobs=None, penalty='l2',\n",
       "                                                   random_state=None,\n",
       "                                                   solver='lbfgs', tol=0.0001,\n",
       "                                                   verbose=0,\n",
       "                                                   warm_start=False)),\n",
       "                               ('gbc',\n",
       "                                GradientBoostingClassifier(ccp_alpha=0.0,\n",
       "                                                           criterion='friedman_mse...\n",
       "                                                       random_state=None,\n",
       "                                                       verbose=0,\n",
       "                                                       warm_start=False))],\n",
       "                   final_estimator=LogisticRegression(C=1.0, class_weight=None,\n",
       "                                                      dual=False,\n",
       "                                                      fit_intercept=True,\n",
       "                                                      intercept_scaling=1,\n",
       "                                                      l1_ratio=None,\n",
       "                                                      max_iter=100,\n",
       "                                                      multi_class='auto',\n",
       "                                                      n_jobs=None, penalty='l2',\n",
       "                                                      random_state=None,\n",
       "                                                      solver='lbfgs',\n",
       "                                                      tol=0.0001, verbose=0,\n",
       "                                                      warm_start=False),\n",
       "                   n_jobs=None, passthrough=False, stack_method='auto',\n",
       "                   verbose=0)"
      ]
     },
     "execution_count": 61,
     "metadata": {},
     "output_type": "execute_result"
    }
   ],
   "source": [
    "%%time\n",
    "from sklearn.ensemble import StackingClassifier\n",
    "from sklearn.model_selection import RepeatedStratifiedKFold\n",
    "\n",
    "# define the base models\n",
    "level0 = list()\n",
    "level0.append(('lr', LogisticRegression()))\n",
    "level0.append(('gbc', GradientBoostingClassifier(learning_rate = 0.01, n_estimators = 1000, max_depth=4, min_samples_split=2, min_samples_leaf=1, subsample=1,max_features='sqrt', random_state=10)))\n",
    "level0.append(('rf', RandomForestClassifier(n_estimators=30, max_depth=9)))\n",
    "# define meta learner model\n",
    "level1 = LogisticRegression()\n",
    "\n",
    "# define the stacking ensemble\n",
    "model = StackingClassifier(estimators=level0, final_estimator=level1, cv=5)\n",
    "\n",
    "model.fit(x_train, y_train)"
   ]
  },
  {
   "cell_type": "code",
   "execution_count": 62,
   "metadata": {},
   "outputs": [
    {
     "data": {
      "text/plain": [
       "0.7869433198380567"
      ]
     },
     "execution_count": 62,
     "metadata": {},
     "output_type": "execute_result"
    }
   ],
   "source": [
    "model.score(x_test,y_test)"
   ]
  },
  {
   "cell_type": "code",
   "execution_count": 60,
   "metadata": {},
   "outputs": [
    {
     "name": "stdout",
     "output_type": "stream",
     "text": [
      "0.5825264694453408\n"
     ]
    },
    {
     "data": {
      "image/png": "[encoded data removed]",
      "text/plain": [
       "<Figure size 432x288 with 1 Axes>"
      ]
     },
     "metadata": {
      "needs_background": "light"
     },
     "output_type": "display_data"
    }
   ],
   "source": [
    "y_pred = model.predict(x_test)\n",
    "fpr, tpr, _ = roc_curve(y_test, y_pred)\n",
    "roc_auc = auc(fpr, tpr)\n",
    "print(roc_auc)\n",
    "\n",
    "plt.figure()\n",
    "lw = 2\n",
    "plt.plot(fpr, tpr, color='darkorange',\n",
    "         lw=lw, label='ROC curve (area = %0.2f)' % roc_auc)\n",
    "plt.plot([0, 1], [0, 1], color='navy', lw=lw, linestyle='--')\n",
    "plt.xlim([-0.02, 1.0])\n",
    "plt.ylim([0.0, 1.05])\n",
    "plt.xlabel('False Positive Rate')\n",
    "plt.ylabel('True Positive Rate')\n",
    "plt.title('ROC curve')\n",
    "plt.legend(loc=\"lower right\")\n",
    "plt.show()"
   ]
  },
  {
   "cell_type": "code",
   "execution_count": null,
   "metadata": {},
   "outputs": [],
   "source": [
    "%%time\n",
    "cv = RepeatedStratifiedKFold(n_splits=10, n_repeats=3, random_state=1)\n",
    "scores = cross_val_score(model, X, y, scoring='accuracy', cv=cv, n_jobs=-1, error_score='raise')"
   ]
  },
  {
   "cell_type": "raw",
   "metadata": {},
   "source": [
    "print(np.mean(scores))"
   ]
  },
  {
   "cell_type": "code",
   "execution_count": 47,
   "metadata": {},
   "outputs": [],
   "source": [
    "#import pickle\n",
    "#pickle.dump(clf, open('grab_model.pkl','wb'))"
   ]
  },
  {
   "cell_type": "code",
   "execution_count": 45,
   "metadata": {},
   "outputs": [
    {
     "name": "stdout",
     "output_type": "stream",
     "text": [
      "score on test: 0.7806174089068826\n",
      "score on train: 0.7900797165633304\n"
     ]
    }
   ],
   "source": [
    "from sklearn.ensemble import AdaBoostClassifier\n",
    "from sklearn.ensemble import VotingClassifier\n",
    "from sklearn.tree import DecisionTreeClassifier\n",
    "\n",
    "adb = AdaBoostClassifier(DecisionTreeClassifier(min_samples_split=10,max_depth=4),n_estimators=10,learning_rate=0.6)\n",
    "adb.fit(x_train, y_train)\n",
    "\n",
    "print(\"score on test: \" + str(adb.score(x_test, y_test)))\n",
    "print(\"score on train: \"+ str(adb.score(x_train, y_train)))"
   ]
  },
  {
   "cell_type": "code",
   "execution_count": 46,
   "metadata": {},
   "outputs": [
    {
     "name": "stderr",
     "output_type": "stream",
     "text": [
      "D:\\anaconda3\\lib\\site-packages\\sklearn\\linear_model\\_logistic.py:940: ConvergenceWarning: lbfgs failed to converge (status=1):\n",
      "STOP: TOTAL NO. of ITERATIONS REACHED LIMIT.\n",
      "\n",
      "Increase the number of iterations (max_iter) or scale the data as shown in:\n",
      "    https://scikit-learn.org/stable/modules/preprocessing.html\n",
      "Please also refer to the documentation for alternative solver options:\n",
      "    https://scikit-learn.org/stable/modules/linear_model.html#logistic-regression\n",
      "  extra_warning_msg=_LOGISTIC_SOLVER_CONVERGENCE_MSG)\n"
     ]
    },
    {
     "name": "stdout",
     "output_type": "stream",
     "text": [
      "score on test: 0.7773279352226721\n",
      "score on train: 0.7754650132860939\n"
     ]
    }
   ],
   "source": [
    "from sklearn.naive_bayes import GaussianNB\n",
    "from sklearn import svm\n",
    "\n",
    "mnb = GaussianNB()\n",
    "lr = LogisticRegression()\n",
    "rf = RandomForestClassifier()\n",
    "svm = svm.SVC()\n",
    "\n",
    "evc = VotingClassifier(estimators=[('mnb',mnb),('lr',lr),('rf',rf),('svm',svm)],voting='hard')\n",
    "evc.fit(x_train, y_train)\n",
    "print(\"score on test: \" + str(evc.score(x_test, y_test)))\n",
    "print(\"score on train: \"+ str(evc.score(x_train, y_train)))"
   ]
  },
  {
   "cell_type": "markdown",
   "metadata": {},
   "source": [
    "Which feature has a high impact on indicating dangerous trips?\n",
    "Duration of the Journey matters the most, as i believe it is linked to fatigue,\n",
    "next feature would be the aggressive turning of vehicle would make it considered a dangerous trip.\n",
    "Speed also plays a part whereby the maximum speed reached and average speed of the vehicle, distance also matters whereby \n",
    "longer distance journey tends to have higher chances of being labelled as dangerous\n",
    "\n",
    "How does the driving behaviour change over time (second) for normal trips and dangerous trips? What are the behaviour difference?\n",
    "As the duration of the trip increases, there is a tendency to be labelled as dangerous as the driver could have exceed the speed limit within the journey, and the amount of turns made would be higher too.\n",
    "\n",
    "\n",
    "Given the telematics data for new trips,  derive a model to detect if the trip is a dangerous trip."
   ]
  },
  {
   "cell_type": "code",
   "execution_count": null,
   "metadata": {},
   "outputs": [],
   "source": []
  },
  {
   "cell_type": "code",
   "execution_count": null,
   "metadata": {},
   "outputs": [],
   "source": []
  }
 ],
 "metadata": {
  "kernelspec": {
   "display_name": "Python 3",
   "language": "python",
   "name": "python3"
  },
  "language_info": {
   "codemirror_mode": {
    "name": "ipython",
    "version": 3
   },
   "file_extension": ".py",
   "mimetype": "text/x-python",
   "name": "python",
   "nbconvert_exporter": "python",
   "pygments_lexer": "ipython3",
   "version": "3.7.6"
  }
 },
 "nbformat": 4,
 "nbformat_minor": 4
}
